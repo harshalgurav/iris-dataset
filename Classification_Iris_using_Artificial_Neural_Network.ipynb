{
  "nbformat": 4,
  "nbformat_minor": 0,
  "metadata": {
    "colab": {
      "name": "Classification-Iris-using-Artificial-Neural-Network.ipynb",
      "provenance": [],
      "mount_file_id": "1Ngadv3tE34h8WmF_9dLVAWV48vCjGJ9s",
      "authorship_tag": "ABX9TyMW00upJMvgkamo1VZUaWt2",
      "include_colab_link": true
    },
    "kernelspec": {
      "name": "python3",
      "display_name": "Python 3"
    },
    "language_info": {
      "name": "python"
    }
  },
  "cells": [
    {
      "cell_type": "markdown",
      "metadata": {
        "id": "view-in-github",
        "colab_type": "text"
      },
      "source": [
        "<a href=\"https://colab.research.google.com/github/harshalgurav/iris_neuralnetwork/blob/main/Classification_Iris_using_Artificial_Neural_Network.ipynb\" target=\"_parent\"><img src=\"https://colab.research.google.com/assets/colab-badge.svg\" alt=\"Open In Colab\"/></a>"
      ]
    },
    {
      "cell_type": "code",
      "execution_count": 1,
      "metadata": {
        "id": "-rEQdwVmEA62"
      },
      "outputs": [],
      "source": [
        "import numpy as np\n",
        "import pandas as pd\n",
        "import matplotlib.pyplot as plt\n",
        "import seaborn as sns\n",
        "import warnings\n",
        "warnings.filterwarnings('ignore')"
      ]
    },
    {
      "cell_type": "code",
      "source": [
        "#to load dataset\n",
        "df=pd.read_csv('/content/drive/MyDrive/happymonk/iris.csv')"
      ],
      "metadata": {
        "id": "zhz9Nf8fEYOU"
      },
      "execution_count": 2,
      "outputs": []
    },
    {
      "cell_type": "code",
      "source": [
        "#to see first 5 records\n",
        "df.head()"
      ],
      "metadata": {
        "colab": {
          "base_uri": "https://localhost:8080/",
          "height": 206
        },
        "id": "gEoFSVvVE3o6",
        "outputId": "263de01c-8d48-42e7-b325-67076ddcaee6"
      },
      "execution_count": 3,
      "outputs": [
        {
          "output_type": "execute_result",
          "data": {
            "text/plain": [
              "   sepal_length  sepal_width  petal_length  petal_width      species\n",
              "0           5.1          3.5           1.4          0.2  Iris-setosa\n",
              "1           4.9          3.0           1.4          0.2  Iris-setosa\n",
              "2           4.7          3.2           1.3          0.2  Iris-setosa\n",
              "3           4.6          3.1           1.5          0.2  Iris-setosa\n",
              "4           5.0          3.6           1.4          0.2  Iris-setosa"
            ],
            "text/html": [
              "\n",
              "  <div id=\"df-03d8c6ae-f9cd-4087-8126-749ef57bfa1a\">\n",
              "    <div class=\"colab-df-container\">\n",
              "      <div>\n",
              "<style scoped>\n",
              "    .dataframe tbody tr th:only-of-type {\n",
              "        vertical-align: middle;\n",
              "    }\n",
              "\n",
              "    .dataframe tbody tr th {\n",
              "        vertical-align: top;\n",
              "    }\n",
              "\n",
              "    .dataframe thead th {\n",
              "        text-align: right;\n",
              "    }\n",
              "</style>\n",
              "<table border=\"1\" class=\"dataframe\">\n",
              "  <thead>\n",
              "    <tr style=\"text-align: right;\">\n",
              "      <th></th>\n",
              "      <th>sepal_length</th>\n",
              "      <th>sepal_width</th>\n",
              "      <th>petal_length</th>\n",
              "      <th>petal_width</th>\n",
              "      <th>species</th>\n",
              "    </tr>\n",
              "  </thead>\n",
              "  <tbody>\n",
              "    <tr>\n",
              "      <th>0</th>\n",
              "      <td>5.1</td>\n",
              "      <td>3.5</td>\n",
              "      <td>1.4</td>\n",
              "      <td>0.2</td>\n",
              "      <td>Iris-setosa</td>\n",
              "    </tr>\n",
              "    <tr>\n",
              "      <th>1</th>\n",
              "      <td>4.9</td>\n",
              "      <td>3.0</td>\n",
              "      <td>1.4</td>\n",
              "      <td>0.2</td>\n",
              "      <td>Iris-setosa</td>\n",
              "    </tr>\n",
              "    <tr>\n",
              "      <th>2</th>\n",
              "      <td>4.7</td>\n",
              "      <td>3.2</td>\n",
              "      <td>1.3</td>\n",
              "      <td>0.2</td>\n",
              "      <td>Iris-setosa</td>\n",
              "    </tr>\n",
              "    <tr>\n",
              "      <th>3</th>\n",
              "      <td>4.6</td>\n",
              "      <td>3.1</td>\n",
              "      <td>1.5</td>\n",
              "      <td>0.2</td>\n",
              "      <td>Iris-setosa</td>\n",
              "    </tr>\n",
              "    <tr>\n",
              "      <th>4</th>\n",
              "      <td>5.0</td>\n",
              "      <td>3.6</td>\n",
              "      <td>1.4</td>\n",
              "      <td>0.2</td>\n",
              "      <td>Iris-setosa</td>\n",
              "    </tr>\n",
              "  </tbody>\n",
              "</table>\n",
              "</div>\n",
              "      <button class=\"colab-df-convert\" onclick=\"convertToInteractive('df-03d8c6ae-f9cd-4087-8126-749ef57bfa1a')\"\n",
              "              title=\"Convert this dataframe to an interactive table.\"\n",
              "              style=\"display:none;\">\n",
              "        \n",
              "  <svg xmlns=\"http://www.w3.org/2000/svg\" height=\"24px\"viewBox=\"0 0 24 24\"\n",
              "       width=\"24px\">\n",
              "    <path d=\"M0 0h24v24H0V0z\" fill=\"none\"/>\n",
              "    <path d=\"M18.56 5.44l.94 2.06.94-2.06 2.06-.94-2.06-.94-.94-2.06-.94 2.06-2.06.94zm-11 1L8.5 8.5l.94-2.06 2.06-.94-2.06-.94L8.5 2.5l-.94 2.06-2.06.94zm10 10l.94 2.06.94-2.06 2.06-.94-2.06-.94-.94-2.06-.94 2.06-2.06.94z\"/><path d=\"M17.41 7.96l-1.37-1.37c-.4-.4-.92-.59-1.43-.59-.52 0-1.04.2-1.43.59L10.3 9.45l-7.72 7.72c-.78.78-.78 2.05 0 2.83L4 21.41c.39.39.9.59 1.41.59.51 0 1.02-.2 1.41-.59l7.78-7.78 2.81-2.81c.8-.78.8-2.07 0-2.86zM5.41 20L4 18.59l7.72-7.72 1.47 1.35L5.41 20z\"/>\n",
              "  </svg>\n",
              "      </button>\n",
              "      \n",
              "  <style>\n",
              "    .colab-df-container {\n",
              "      display:flex;\n",
              "      flex-wrap:wrap;\n",
              "      gap: 12px;\n",
              "    }\n",
              "\n",
              "    .colab-df-convert {\n",
              "      background-color: #E8F0FE;\n",
              "      border: none;\n",
              "      border-radius: 50%;\n",
              "      cursor: pointer;\n",
              "      display: none;\n",
              "      fill: #1967D2;\n",
              "      height: 32px;\n",
              "      padding: 0 0 0 0;\n",
              "      width: 32px;\n",
              "    }\n",
              "\n",
              "    .colab-df-convert:hover {\n",
              "      background-color: #E2EBFA;\n",
              "      box-shadow: 0px 1px 2px rgba(60, 64, 67, 0.3), 0px 1px 3px 1px rgba(60, 64, 67, 0.15);\n",
              "      fill: #174EA6;\n",
              "    }\n",
              "\n",
              "    [theme=dark] .colab-df-convert {\n",
              "      background-color: #3B4455;\n",
              "      fill: #D2E3FC;\n",
              "    }\n",
              "\n",
              "    [theme=dark] .colab-df-convert:hover {\n",
              "      background-color: #434B5C;\n",
              "      box-shadow: 0px 1px 3px 1px rgba(0, 0, 0, 0.15);\n",
              "      filter: drop-shadow(0px 1px 2px rgba(0, 0, 0, 0.3));\n",
              "      fill: #FFFFFF;\n",
              "    }\n",
              "  </style>\n",
              "\n",
              "      <script>\n",
              "        const buttonEl =\n",
              "          document.querySelector('#df-03d8c6ae-f9cd-4087-8126-749ef57bfa1a button.colab-df-convert');\n",
              "        buttonEl.style.display =\n",
              "          google.colab.kernel.accessAllowed ? 'block' : 'none';\n",
              "\n",
              "        async function convertToInteractive(key) {\n",
              "          const element = document.querySelector('#df-03d8c6ae-f9cd-4087-8126-749ef57bfa1a');\n",
              "          const dataTable =\n",
              "            await google.colab.kernel.invokeFunction('convertToInteractive',\n",
              "                                                     [key], {});\n",
              "          if (!dataTable) return;\n",
              "\n",
              "          const docLinkHtml = 'Like what you see? Visit the ' +\n",
              "            '<a target=\"_blank\" href=https://colab.research.google.com/notebooks/data_table.ipynb>data table notebook</a>'\n",
              "            + ' to learn more about interactive tables.';\n",
              "          element.innerHTML = '';\n",
              "          dataTable['output_type'] = 'display_data';\n",
              "          await google.colab.output.renderOutput(dataTable, element);\n",
              "          const docLink = document.createElement('div');\n",
              "          docLink.innerHTML = docLinkHtml;\n",
              "          element.appendChild(docLink);\n",
              "        }\n",
              "      </script>\n",
              "    </div>\n",
              "  </div>\n",
              "  "
            ]
          },
          "metadata": {},
          "execution_count": 3
        }
      ]
    },
    {
      "cell_type": "code",
      "source": [
        "#how many rows and columns\n",
        "df.shape"
      ],
      "metadata": {
        "colab": {
          "base_uri": "https://localhost:8080/"
        },
        "id": "0n0qFLk2E6lT",
        "outputId": "4a322240-3798-4dd6-e404-b3417f622e40"
      },
      "execution_count": 4,
      "outputs": [
        {
          "output_type": "execute_result",
          "data": {
            "text/plain": [
              "(150, 5)"
            ]
          },
          "metadata": {},
          "execution_count": 4
        }
      ]
    },
    {
      "cell_type": "code",
      "source": [
        "#to check null values\n",
        "df.isnull().sum()"
      ],
      "metadata": {
        "colab": {
          "base_uri": "https://localhost:8080/"
        },
        "id": "ru0rxI8YE9ZL",
        "outputId": "16822d92-b10f-44d8-c409-de44c7c4c8df"
      },
      "execution_count": 5,
      "outputs": [
        {
          "output_type": "execute_result",
          "data": {
            "text/plain": [
              "sepal_length    0\n",
              "sepal_width     0\n",
              "petal_length    0\n",
              "petal_width     0\n",
              "species         0\n",
              "dtype: int64"
            ]
          },
          "metadata": {},
          "execution_count": 5
        }
      ]
    },
    {
      "cell_type": "code",
      "source": [
        "#visulization\n",
        "sns.heatmap(df.isnull())\n",
        "plt.show()"
      ],
      "metadata": {
        "colab": {
          "base_uri": "https://localhost:8080/",
          "height": 323
        },
        "id": "lB5Tod70FWaf",
        "outputId": "df2cb3a8-4d8c-4b09-ea8d-f2ea7c176f07"
      },
      "execution_count": 6,
      "outputs": [
        {
          "output_type": "display_data",
          "data": {
            "text/plain": [
              "<Figure size 432x288 with 2 Axes>"
            ],
            "image/png": "[encoded data removed]"
          },
          "metadata": {
            "needs_background": "light"
          }
        }
      ]
    },
    {
      "cell_type": "code",
      "source": [
        "#check datatype\n",
        "df.dtypes"
      ],
      "metadata": {
        "colab": {
          "base_uri": "https://localhost:8080/"
        },
        "id": "UrQh-BegFZS5",
        "outputId": "6d0fe001-8b25-424a-a934-d0e85aff85b2"
      },
      "execution_count": 7,
      "outputs": [
        {
          "output_type": "execute_result",
          "data": {
            "text/plain": [
              "sepal_length    float64\n",
              "sepal_width     float64\n",
              "petal_length    float64\n",
              "petal_width     float64\n",
              "species          object\n",
              "dtype: object"
            ]
          },
          "metadata": {},
          "execution_count": 7
        }
      ]
    },
    {
      "cell_type": "code",
      "source": [
        "#to check duplicate values\n",
        "df.duplicated().sum()"
      ],
      "metadata": {
        "colab": {
          "base_uri": "https://localhost:8080/"
        },
        "id": "P44eU9n5FbyH",
        "outputId": "c04dc05a-9d8d-44cc-d7ab-e47034250ebf"
      },
      "execution_count": 8,
      "outputs": [
        {
          "output_type": "execute_result",
          "data": {
            "text/plain": [
              "3"
            ]
          },
          "metadata": {},
          "execution_count": 8
        }
      ]
    },
    {
      "cell_type": "code",
      "source": [
        "#how many samples of 1 and 0 in insuranceclaim output variable\n",
        "df[\"species\"].value_counts()"
      ],
      "metadata": {
        "colab": {
          "base_uri": "https://localhost:8080/"
        },
        "id": "hgl0YEVnFegf",
        "outputId": "c776b94c-33b9-4afc-eb2e-d2682de477fd"
      },
      "execution_count": 9,
      "outputs": [
        {
          "output_type": "execute_result",
          "data": {
            "text/plain": [
              "Iris-setosa        50\n",
              "Iris-versicolor    50\n",
              "Iris-virginica     50\n",
              "Name: species, dtype: int64"
            ]
          },
          "metadata": {},
          "execution_count": 9
        }
      ]
    },
    {
      "cell_type": "code",
      "source": [
        "#randomoversampling\n",
        "from imblearn.over_sampling import RandomOverSampler\n",
        "\n",
        "#create object of RandomOverSampler\n",
        "ros=RandomOverSampler"
      ],
      "metadata": {
        "id": "qr1UFi77Fpp4"
      },
      "execution_count": 10,
      "outputs": []
    },
    {
      "cell_type": "code",
      "source": [
        "#split data into 2 parts\n",
        "df_num=df.select_dtypes(['float64'])\n",
        "df_cat=df.select_dtypes('object')"
      ],
      "metadata": {
        "id": "BX9bhgKSFspR"
      },
      "execution_count": 11,
      "outputs": []
    },
    {
      "cell_type": "code",
      "source": [
        "df_cat"
      ],
      "metadata": {
        "colab": {
          "base_uri": "https://localhost:8080/",
          "height": 424
        },
        "id": "fBeeIucZFxl4",
        "outputId": "c4b59afa-da16-4a70-d1c0-68fe1725f240"
      },
      "execution_count": 12,
      "outputs": [
        {
          "output_type": "execute_result",
          "data": {
            "text/plain": [
              "            species\n",
              "0       Iris-setosa\n",
              "1       Iris-setosa\n",
              "2       Iris-setosa\n",
              "3       Iris-setosa\n",
              "4       Iris-setosa\n",
              "..              ...\n",
              "145  Iris-virginica\n",
              "146  Iris-virginica\n",
              "147  Iris-virginica\n",
              "148  Iris-virginica\n",
              "149  Iris-virginica\n",
              "\n",
              "[150 rows x 1 columns]"
            ],
            "text/html": [
              "\n",
              "  <div id=\"df-33e381fb-5089-4f4b-9dd2-d138d662adc5\">\n",
              "    <div class=\"colab-df-container\">\n",
              "      <div>\n",
              "<style scoped>\n",
              "    .dataframe tbody tr th:only-of-type {\n",
              "        vertical-align: middle;\n",
              "    }\n",
              "\n",
              "    .dataframe tbody tr th {\n",
              "        vertical-align: top;\n",
              "    }\n",
              "\n",
              "    .dataframe thead th {\n",
              "        text-align: right;\n",
              "    }\n",
              "</style>\n",
              "<table border=\"1\" class=\"dataframe\">\n",
              "  <thead>\n",
              "    <tr style=\"text-align: right;\">\n",
              "      <th></th>\n",
              "      <th>species</th>\n",
              "    </tr>\n",
              "  </thead>\n",
              "  <tbody>\n",
              "    <tr>\n",
              "      <th>0</th>\n",
              "      <td>Iris-setosa</td>\n",
              "    </tr>\n",
              "    <tr>\n",
              "      <th>1</th>\n",
              "      <td>Iris-setosa</td>\n",
              "    </tr>\n",
              "    <tr>\n",
              "      <th>2</th>\n",
              "      <td>Iris-setosa</td>\n",
              "    </tr>\n",
              "    <tr>\n",
              "      <th>3</th>\n",
              "      <td>Iris-setosa</td>\n",
              "    </tr>\n",
              "    <tr>\n",
              "      <th>4</th>\n",
              "      <td>Iris-setosa</td>\n",
              "    </tr>\n",
              "    <tr>\n",
              "      <th>...</th>\n",
              "      <td>...</td>\n",
              "    </tr>\n",
              "    <tr>\n",
              "      <th>145</th>\n",
              "      <td>Iris-virginica</td>\n",
              "    </tr>\n",
              "    <tr>\n",
              "      <th>146</th>\n",
              "      <td>Iris-virginica</td>\n",
              "    </tr>\n",
              "    <tr>\n",
              "      <th>147</th>\n",
              "      <td>Iris-virginica</td>\n",
              "    </tr>\n",
              "    <tr>\n",
              "      <th>148</th>\n",
              "      <td>Iris-virginica</td>\n",
              "    </tr>\n",
              "    <tr>\n",
              "      <th>149</th>\n",
              "      <td>Iris-virginica</td>\n",
              "    </tr>\n",
              "  </tbody>\n",
              "</table>\n",
              "<p>150 rows × 1 columns</p>\n",
              "</div>\n",
              "      <button class=\"colab-df-convert\" onclick=\"convertToInteractive('df-33e381fb-5089-4f4b-9dd2-d138d662adc5')\"\n",
              "              title=\"Convert this dataframe to an interactive table.\"\n",
              "              style=\"display:none;\">\n",
              "        \n",
              "  <svg xmlns=\"http://www.w3.org/2000/svg\" height=\"24px\"viewBox=\"0 0 24 24\"\n",
              "       width=\"24px\">\n",
              "    <path d=\"M0 0h24v24H0V0z\" fill=\"none\"/>\n",
              "    <path d=\"M18.56 5.44l.94 2.06.94-2.06 2.06-.94-2.06-.94-.94-2.06-.94 2.06-2.06.94zm-11 1L8.5 8.5l.94-2.06 2.06-.94-2.06-.94L8.5 2.5l-.94 2.06-2.06.94zm10 10l.94 2.06.94-2.06 2.06-.94-2.06-.94-.94-2.06-.94 2.06-2.06.94z\"/><path d=\"M17.41 7.96l-1.37-1.37c-.4-.4-.92-.59-1.43-.59-.52 0-1.04.2-1.43.59L10.3 9.45l-7.72 7.72c-.78.78-.78 2.05 0 2.83L4 21.41c.39.39.9.59 1.41.59.51 0 1.02-.2 1.41-.59l7.78-7.78 2.81-2.81c.8-.78.8-2.07 0-2.86zM5.41 20L4 18.59l7.72-7.72 1.47 1.35L5.41 20z\"/>\n",
              "  </svg>\n",
              "      </button>\n",
              "      \n",
              "  <style>\n",
              "    .colab-df-container {\n",
              "      display:flex;\n",
              "      flex-wrap:wrap;\n",
              "      gap: 12px;\n",
              "    }\n",
              "\n",
              "    .colab-df-convert {\n",
              "      background-color: #E8F0FE;\n",
              "      border: none;\n",
              "      border-radius: 50%;\n",
              "      cursor: pointer;\n",
              "      display: none;\n",
              "      fill: #1967D2;\n",
              "      height: 32px;\n",
              "      padding: 0 0 0 0;\n",
              "      width: 32px;\n",
              "    }\n",
              "\n",
              "    .colab-df-convert:hover {\n",
              "      background-color: #E2EBFA;\n",
              "      box-shadow: 0px 1px 2px rgba(60, 64, 67, 0.3), 0px 1px 3px 1px rgba(60, 64, 67, 0.15);\n",
              "      fill: #174EA6;\n",
              "    }\n",
              "\n",
              "    [theme=dark] .colab-df-convert {\n",
              "      background-color: #3B4455;\n",
              "      fill: #D2E3FC;\n",
              "    }\n",
              "\n",
              "    [theme=dark] .colab-df-convert:hover {\n",
              "      background-color: #434B5C;\n",
              "      box-shadow: 0px 1px 3px 1px rgba(0, 0, 0, 0.15);\n",
              "      filter: drop-shadow(0px 1px 2px rgba(0, 0, 0, 0.3));\n",
              "      fill: #FFFFFF;\n",
              "    }\n",
              "  </style>\n",
              "\n",
              "      <script>\n",
              "        const buttonEl =\n",
              "          document.querySelector('#df-33e381fb-5089-4f4b-9dd2-d138d662adc5 button.colab-df-convert');\n",
              "        buttonEl.style.display =\n",
              "          google.colab.kernel.accessAllowed ? 'block' : 'none';\n",
              "\n",
              "        async function convertToInteractive(key) {\n",
              "          const element = document.querySelector('#df-33e381fb-5089-4f4b-9dd2-d138d662adc5');\n",
              "          const dataTable =\n",
              "            await google.colab.kernel.invokeFunction('convertToInteractive',\n",
              "                                                     [key], {});\n",
              "          if (!dataTable) return;\n",
              "\n",
              "          const docLinkHtml = 'Like what you see? Visit the ' +\n",
              "            '<a target=\"_blank\" href=https://colab.research.google.com/notebooks/data_table.ipynb>data table notebook</a>'\n",
              "            + ' to learn more about interactive tables.';\n",
              "          element.innerHTML = '';\n",
              "          dataTable['output_type'] = 'display_data';\n",
              "          await google.colab.output.renderOutput(dataTable, element);\n",
              "          const docLink = document.createElement('div');\n",
              "          docLink.innerHTML = docLinkHtml;\n",
              "          element.appendChild(docLink);\n",
              "        }\n",
              "      </script>\n",
              "    </div>\n",
              "  </div>\n",
              "  "
            ]
          },
          "metadata": {},
          "execution_count": 12
        }
      ]
    },
    {
      "cell_type": "code",
      "source": [
        "df_num"
      ],
      "metadata": {
        "colab": {
          "base_uri": "https://localhost:8080/",
          "height": 424
        },
        "id": "C9Oat0aCF1K0",
        "outputId": "2f074f9f-6ddb-47fe-ad85-4d379ce15a5f"
      },
      "execution_count": 13,
      "outputs": [
        {
          "output_type": "execute_result",
          "data": {
            "text/plain": [
              "     sepal_length  sepal_width  petal_length  petal_width\n",
              "0             5.1          3.5           1.4          0.2\n",
              "1             4.9          3.0           1.4          0.2\n",
              "2             4.7          3.2           1.3          0.2\n",
              "3             4.6          3.1           1.5          0.2\n",
              "4             5.0          3.6           1.4          0.2\n",
              "..            ...          ...           ...          ...\n",
              "145           6.7          3.0           5.2          2.3\n",
              "146           6.3          2.5           5.0          1.9\n",
              "147           6.5          3.0           5.2          2.0\n",
              "148           6.2          3.4           5.4          2.3\n",
              "149           5.9          3.0           5.1          1.8\n",
              "\n",
              "[150 rows x 4 columns]"
            ],
            "text/html": [
              "\n",
              "  <div id=\"df-b8df68fb-65ec-41b6-b377-6f9b4f0f0b07\">\n",
              "    <div class=\"colab-df-container\">\n",
              "      <div>\n",
              "<style scoped>\n",
              "    .dataframe tbody tr th:only-of-type {\n",
              "        vertical-align: middle;\n",
              "    }\n",
              "\n",
              "    .dataframe tbody tr th {\n",
              "        vertical-align: top;\n",
              "    }\n",
              "\n",
              "    .dataframe thead th {\n",
              "        text-align: right;\n",
              "    }\n",
              "</style>\n",
              "<table border=\"1\" class=\"dataframe\">\n",
              "  <thead>\n",
              "    <tr style=\"text-align: right;\">\n",
              "      <th></th>\n",
              "      <th>sepal_length</th>\n",
              "      <th>sepal_width</th>\n",
              "      <th>petal_length</th>\n",
              "      <th>petal_width</th>\n",
              "    </tr>\n",
              "  </thead>\n",
              "  <tbody>\n",
              "    <tr>\n",
              "      <th>0</th>\n",
              "      <td>5.1</td>\n",
              "      <td>3.5</td>\n",
              "      <td>1.4</td>\n",
              "      <td>0.2</td>\n",
              "    </tr>\n",
              "    <tr>\n",
              "      <th>1</th>\n",
              "      <td>4.9</td>\n",
              "      <td>3.0</td>\n",
              "      <td>1.4</td>\n",
              "      <td>0.2</td>\n",
              "    </tr>\n",
              "    <tr>\n",
              "      <th>2</th>\n",
              "      <td>4.7</td>\n",
              "      <td>3.2</td>\n",
              "      <td>1.3</td>\n",
              "      <td>0.2</td>\n",
              "    </tr>\n",
              "    <tr>\n",
              "      <th>3</th>\n",
              "      <td>4.6</td>\n",
              "      <td>3.1</td>\n",
              "      <td>1.5</td>\n",
              "      <td>0.2</td>\n",
              "    </tr>\n",
              "    <tr>\n",
              "      <th>4</th>\n",
              "      <td>5.0</td>\n",
              "      <td>3.6</td>\n",
              "      <td>1.4</td>\n",
              "      <td>0.2</td>\n",
              "    </tr>\n",
              "    <tr>\n",
              "      <th>...</th>\n",
              "      <td>...</td>\n",
              "      <td>...</td>\n",
              "      <td>...</td>\n",
              "      <td>...</td>\n",
              "    </tr>\n",
              "    <tr>\n",
              "      <th>145</th>\n",
              "      <td>6.7</td>\n",
              "      <td>3.0</td>\n",
              "      <td>5.2</td>\n",
              "      <td>2.3</td>\n",
              "    </tr>\n",
              "    <tr>\n",
              "      <th>146</th>\n",
              "      <td>6.3</td>\n",
              "      <td>2.5</td>\n",
              "      <td>5.0</td>\n",
              "      <td>1.9</td>\n",
              "    </tr>\n",
              "    <tr>\n",
              "      <th>147</th>\n",
              "      <td>6.5</td>\n",
              "      <td>3.0</td>\n",
              "      <td>5.2</td>\n",
              "      <td>2.0</td>\n",
              "    </tr>\n",
              "    <tr>\n",
              "      <th>148</th>\n",
              "      <td>6.2</td>\n",
              "      <td>3.4</td>\n",
              "      <td>5.4</td>\n",
              "      <td>2.3</td>\n",
              "    </tr>\n",
              "    <tr>\n",
              "      <th>149</th>\n",
              "      <td>5.9</td>\n",
              "      <td>3.0</td>\n",
              "      <td>5.1</td>\n",
              "      <td>1.8</td>\n",
              "    </tr>\n",
              "  </tbody>\n",
              "</table>\n",
              "<p>150 rows × 4 columns</p>\n",
              "</div>\n",
              "      <button class=\"colab-df-convert\" onclick=\"convertToInteractive('df-b8df68fb-65ec-41b6-b377-6f9b4f0f0b07')\"\n",
              "              title=\"Convert this dataframe to an interactive table.\"\n",
              "              style=\"display:none;\">\n",
              "        \n",
              "  <svg xmlns=\"http://www.w3.org/2000/svg\" height=\"24px\"viewBox=\"0 0 24 24\"\n",
              "       width=\"24px\">\n",
              "    <path d=\"M0 0h24v24H0V0z\" fill=\"none\"/>\n",
              "    <path d=\"M18.56 5.44l.94 2.06.94-2.06 2.06-.94-2.06-.94-.94-2.06-.94 2.06-2.06.94zm-11 1L8.5 8.5l.94-2.06 2.06-.94-2.06-.94L8.5 2.5l-.94 2.06-2.06.94zm10 10l.94 2.06.94-2.06 2.06-.94-2.06-.94-.94-2.06-.94 2.06-2.06.94z\"/><path d=\"M17.41 7.96l-1.37-1.37c-.4-.4-.92-.59-1.43-.59-.52 0-1.04.2-1.43.59L10.3 9.45l-7.72 7.72c-.78.78-.78 2.05 0 2.83L4 21.41c.39.39.9.59 1.41.59.51 0 1.02-.2 1.41-.59l7.78-7.78 2.81-2.81c.8-.78.8-2.07 0-2.86zM5.41 20L4 18.59l7.72-7.72 1.47 1.35L5.41 20z\"/>\n",
              "  </svg>\n",
              "      </button>\n",
              "      \n",
              "  <style>\n",
              "    .colab-df-container {\n",
              "      display:flex;\n",
              "      flex-wrap:wrap;\n",
              "      gap: 12px;\n",
              "    }\n",
              "\n",
              "    .colab-df-convert {\n",
              "      background-color: #E8F0FE;\n",
              "      border: none;\n",
              "      border-radius: 50%;\n",
              "      cursor: pointer;\n",
              "      display: none;\n",
              "      fill: #1967D2;\n",
              "      height: 32px;\n",
              "      padding: 0 0 0 0;\n",
              "      width: 32px;\n",
              "    }\n",
              "\n",
              "    .colab-df-convert:hover {\n",
              "      background-color: #E2EBFA;\n",
              "      box-shadow: 0px 1px 2px rgba(60, 64, 67, 0.3), 0px 1px 3px 1px rgba(60, 64, 67, 0.15);\n",
              "      fill: #174EA6;\n",
              "    }\n",
              "\n",
              "    [theme=dark] .colab-df-convert {\n",
              "      background-color: #3B4455;\n",
              "      fill: #D2E3FC;\n",
              "    }\n",
              "\n",
              "    [theme=dark] .colab-df-convert:hover {\n",
              "      background-color: #434B5C;\n",
              "      box-shadow: 0px 1px 3px 1px rgba(0, 0, 0, 0.15);\n",
              "      filter: drop-shadow(0px 1px 2px rgba(0, 0, 0, 0.3));\n",
              "      fill: #FFFFFF;\n",
              "    }\n",
              "  </style>\n",
              "\n",
              "      <script>\n",
              "        const buttonEl =\n",
              "          document.querySelector('#df-b8df68fb-65ec-41b6-b377-6f9b4f0f0b07 button.colab-df-convert');\n",
              "        buttonEl.style.display =\n",
              "          google.colab.kernel.accessAllowed ? 'block' : 'none';\n",
              "\n",
              "        async function convertToInteractive(key) {\n",
              "          const element = document.querySelector('#df-b8df68fb-65ec-41b6-b377-6f9b4f0f0b07');\n",
              "          const dataTable =\n",
              "            await google.colab.kernel.invokeFunction('convertToInteractive',\n",
              "                                                     [key], {});\n",
              "          if (!dataTable) return;\n",
              "\n",
              "          const docLinkHtml = 'Like what you see? Visit the ' +\n",
              "            '<a target=\"_blank\" href=https://colab.research.google.com/notebooks/data_table.ipynb>data table notebook</a>'\n",
              "            + ' to learn more about interactive tables.';\n",
              "          element.innerHTML = '';\n",
              "          dataTable['output_type'] = 'display_data';\n",
              "          await google.colab.output.renderOutput(dataTable, element);\n",
              "          const docLink = document.createElement('div');\n",
              "          docLink.innerHTML = docLinkHtml;\n",
              "          element.appendChild(docLink);\n",
              "        }\n",
              "      </script>\n",
              "    </div>\n",
              "  </div>\n",
              "  "
            ]
          },
          "metadata": {},
          "execution_count": 13
        }
      ]
    },
    {
      "cell_type": "code",
      "source": [
        "from sklearn import preprocessing #label encoder: text --> numeric\n",
        "le = preprocessing.LabelEncoder() #panggil LE\n",
        "le.fit(df_cat)\n",
        "df_cat= le.transform(df_cat) #ubah class yang masih text ke numeric\n",
        "\n",
        "df_cat"
      ],
      "metadata": {
        "colab": {
          "base_uri": "https://localhost:8080/"
        },
        "id": "EplpJShEF4C0",
        "outputId": "310a65b1-9990-4819-e9d8-73a7978adbd2"
      },
      "execution_count": 14,
      "outputs": [
        {
          "output_type": "execute_result",
          "data": {
            "text/plain": [
              "array([0, 0, 0, 0, 0, 0, 0, 0, 0, 0, 0, 0, 0, 0, 0, 0, 0, 0, 0, 0, 0, 0,\n",
              "       0, 0, 0, 0, 0, 0, 0, 0, 0, 0, 0, 0, 0, 0, 0, 0, 0, 0, 0, 0, 0, 0,\n",
              "       0, 0, 0, 0, 0, 0, 1, 1, 1, 1, 1, 1, 1, 1, 1, 1, 1, 1, 1, 1, 1, 1,\n",
              "       1, 1, 1, 1, 1, 1, 1, 1, 1, 1, 1, 1, 1, 1, 1, 1, 1, 1, 1, 1, 1, 1,\n",
              "       1, 1, 1, 1, 1, 1, 1, 1, 1, 1, 1, 1, 2, 2, 2, 2, 2, 2, 2, 2, 2, 2,\n",
              "       2, 2, 2, 2, 2, 2, 2, 2, 2, 2, 2, 2, 2, 2, 2, 2, 2, 2, 2, 2, 2, 2,\n",
              "       2, 2, 2, 2, 2, 2, 2, 2, 2, 2, 2, 2, 2, 2, 2, 2, 2, 2])"
            ]
          },
          "metadata": {},
          "execution_count": 14
        }
      ]
    },
    {
      "cell_type": "code",
      "source": [
        "le.transform ([\"Iris-setosa\", \"Iris-versicolor\", \"Iris-virginica\"])"
      ],
      "metadata": {
        "colab": {
          "base_uri": "https://localhost:8080/"
        },
        "id": "DA-PxQtuM0ZJ",
        "outputId": "bd144d06-7296-4aeb-d2ef-5de232ecf75b"
      },
      "execution_count": 15,
      "outputs": [
        {
          "output_type": "execute_result",
          "data": {
            "text/plain": [
              "array([0, 1, 2])"
            ]
          },
          "metadata": {},
          "execution_count": 15
        }
      ]
    },
    {
      "cell_type": "code",
      "source": [
        "from keras.utils.np_utils import to_categorical\n",
        "df_cat1 = to_categorical(df_cat) \n",
        "df_cat1.shape"
      ],
      "metadata": {
        "colab": {
          "base_uri": "https://localhost:8080/"
        },
        "id": "39jzuPm3M7AY",
        "outputId": "481f016d-f156-48bb-ccf9-49ae5d115c60"
      },
      "execution_count": 16,
      "outputs": [
        {
          "output_type": "execute_result",
          "data": {
            "text/plain": [
              "(150, 3)"
            ]
          },
          "metadata": {},
          "execution_count": 16
        }
      ]
    },
    {
      "cell_type": "code",
      "source": [
        "df_cat1"
      ],
      "metadata": {
        "colab": {
          "base_uri": "https://localhost:8080/"
        },
        "id": "7h8dD9g5M_fc",
        "outputId": "fb4d22b9-f2cb-4b11-a2c8-9aa1eb5c168d"
      },
      "execution_count": 17,
      "outputs": [
        {
          "output_type": "execute_result",
          "data": {
            "text/plain": [
              "array([[1., 0., 0.],\n",
              "       [1., 0., 0.],\n",
              "       [1., 0., 0.],\n",
              "       [1., 0., 0.],\n",
              "       [1., 0., 0.],\n",
              "       [1., 0., 0.],\n",
              "       [1., 0., 0.],\n",
              "       [1., 0., 0.],\n",
              "       [1., 0., 0.],\n",
              "       [1., 0., 0.],\n",
              "       [1., 0., 0.],\n",
              "       [1., 0., 0.],\n",
              "       [1., 0., 0.],\n",
              "       [1., 0., 0.],\n",
              "       [1., 0., 0.],\n",
              "       [1., 0., 0.],\n",
              "       [1., 0., 0.],\n",
              "       [1., 0., 0.],\n",
              "       [1., 0., 0.],\n",
              "       [1., 0., 0.],\n",
              "       [1., 0., 0.],\n",
              "       [1., 0., 0.],\n",
              "       [1., 0., 0.],\n",
              "       [1., 0., 0.],\n",
              "       [1., 0., 0.],\n",
              "       [1., 0., 0.],\n",
              "       [1., 0., 0.],\n",
              "       [1., 0., 0.],\n",
              "       [1., 0., 0.],\n",
              "       [1., 0., 0.],\n",
              "       [1., 0., 0.],\n",
              "       [1., 0., 0.],\n",
              "       [1., 0., 0.],\n",
              "       [1., 0., 0.],\n",
              "       [1., 0., 0.],\n",
              "       [1., 0., 0.],\n",
              "       [1., 0., 0.],\n",
              "       [1., 0., 0.],\n",
              "       [1., 0., 0.],\n",
              "       [1., 0., 0.],\n",
              "       [1., 0., 0.],\n",
              "       [1., 0., 0.],\n",
              "       [1., 0., 0.],\n",
              "       [1., 0., 0.],\n",
              "       [1., 0., 0.],\n",
              "       [1., 0., 0.],\n",
              "       [1., 0., 0.],\n",
              "       [1., 0., 0.],\n",
              "       [1., 0., 0.],\n",
              "       [1., 0., 0.],\n",
              "       [0., 1., 0.],\n",
              "       [0., 1., 0.],\n",
              "       [0., 1., 0.],\n",
              "       [0., 1., 0.],\n",
              "       [0., 1., 0.],\n",
              "       [0., 1., 0.],\n",
              "       [0., 1., 0.],\n",
              "       [0., 1., 0.],\n",
              "       [0., 1., 0.],\n",
              "       [0., 1., 0.],\n",
              "       [0., 1., 0.],\n",
              "       [0., 1., 0.],\n",
              "       [0., 1., 0.],\n",
              "       [0., 1., 0.],\n",
              "       [0., 1., 0.],\n",
              "       [0., 1., 0.],\n",
              "       [0., 1., 0.],\n",
              "       [0., 1., 0.],\n",
              "       [0., 1., 0.],\n",
              "       [0., 1., 0.],\n",
              "       [0., 1., 0.],\n",
              "       [0., 1., 0.],\n",
              "       [0., 1., 0.],\n",
              "       [0., 1., 0.],\n",
              "       [0., 1., 0.],\n",
              "       [0., 1., 0.],\n",
              "       [0., 1., 0.],\n",
              "       [0., 1., 0.],\n",
              "       [0., 1., 0.],\n",
              "       [0., 1., 0.],\n",
              "       [0., 1., 0.],\n",
              "       [0., 1., 0.],\n",
              "       [0., 1., 0.],\n",
              "       [0., 1., 0.],\n",
              "       [0., 1., 0.],\n",
              "       [0., 1., 0.],\n",
              "       [0., 1., 0.],\n",
              "       [0., 1., 0.],\n",
              "       [0., 1., 0.],\n",
              "       [0., 1., 0.],\n",
              "       [0., 1., 0.],\n",
              "       [0., 1., 0.],\n",
              "       [0., 1., 0.],\n",
              "       [0., 1., 0.],\n",
              "       [0., 1., 0.],\n",
              "       [0., 1., 0.],\n",
              "       [0., 1., 0.],\n",
              "       [0., 1., 0.],\n",
              "       [0., 1., 0.],\n",
              "       [0., 1., 0.],\n",
              "       [0., 0., 1.],\n",
              "       [0., 0., 1.],\n",
              "       [0., 0., 1.],\n",
              "       [0., 0., 1.],\n",
              "       [0., 0., 1.],\n",
              "       [0., 0., 1.],\n",
              "       [0., 0., 1.],\n",
              "       [0., 0., 1.],\n",
              "       [0., 0., 1.],\n",
              "       [0., 0., 1.],\n",
              "       [0., 0., 1.],\n",
              "       [0., 0., 1.],\n",
              "       [0., 0., 1.],\n",
              "       [0., 0., 1.],\n",
              "       [0., 0., 1.],\n",
              "       [0., 0., 1.],\n",
              "       [0., 0., 1.],\n",
              "       [0., 0., 1.],\n",
              "       [0., 0., 1.],\n",
              "       [0., 0., 1.],\n",
              "       [0., 0., 1.],\n",
              "       [0., 0., 1.],\n",
              "       [0., 0., 1.],\n",
              "       [0., 0., 1.],\n",
              "       [0., 0., 1.],\n",
              "       [0., 0., 1.],\n",
              "       [0., 0., 1.],\n",
              "       [0., 0., 1.],\n",
              "       [0., 0., 1.],\n",
              "       [0., 0., 1.],\n",
              "       [0., 0., 1.],\n",
              "       [0., 0., 1.],\n",
              "       [0., 0., 1.],\n",
              "       [0., 0., 1.],\n",
              "       [0., 0., 1.],\n",
              "       [0., 0., 1.],\n",
              "       [0., 0., 1.],\n",
              "       [0., 0., 1.],\n",
              "       [0., 0., 1.],\n",
              "       [0., 0., 1.],\n",
              "       [0., 0., 1.],\n",
              "       [0., 0., 1.],\n",
              "       [0., 0., 1.],\n",
              "       [0., 0., 1.],\n",
              "       [0., 0., 1.],\n",
              "       [0., 0., 1.],\n",
              "       [0., 0., 1.],\n",
              "       [0., 0., 1.],\n",
              "       [0., 0., 1.],\n",
              "       [0., 0., 1.]], dtype=float32)"
            ]
          },
          "metadata": {},
          "execution_count": 17
        }
      ]
    },
    {
      "cell_type": "code",
      "source": [
        "from sklearn.preprocessing import normalize\n",
        "df_num1 = normalize(df_num,norm=\"l2\") \n",
        "\n",
        "df_num1.shape"
      ],
      "metadata": {
        "colab": {
          "base_uri": "https://localhost:8080/"
        },
        "id": "Hw-c85QiNMqd",
        "outputId": "b9e5a4e9-3d27-49a2-98fc-8cfa89e561ab"
      },
      "execution_count": 18,
      "outputs": [
        {
          "output_type": "execute_result",
          "data": {
            "text/plain": [
              "(150, 4)"
            ]
          },
          "metadata": {},
          "execution_count": 18
        }
      ]
    },
    {
      "cell_type": "code",
      "source": [
        "df_num1"
      ],
      "metadata": {
        "colab": {
          "base_uri": "https://localhost:8080/"
        },
        "id": "g08kEnTuNjzO",
        "outputId": "d5995b69-112d-4868-af12-8211993ee9fb"
      },
      "execution_count": 19,
      "outputs": [
        {
          "output_type": "execute_result",
          "data": {
            "text/plain": [
              "array([[0.80377277, 0.55160877, 0.22064351, 0.0315205 ],\n",
              "       [0.82813287, 0.50702013, 0.23660939, 0.03380134],\n",
              "       [0.80533308, 0.54831188, 0.2227517 , 0.03426949],\n",
              "       [0.80003025, 0.53915082, 0.26087943, 0.03478392],\n",
              "       [0.790965  , 0.5694948 , 0.2214702 , 0.0316386 ],\n",
              "       [0.78417499, 0.5663486 , 0.2468699 , 0.05808704],\n",
              "       [0.78010936, 0.57660257, 0.23742459, 0.0508767 ],\n",
              "       [0.80218492, 0.54548574, 0.24065548, 0.0320874 ],\n",
              "       [0.80642366, 0.5315065 , 0.25658935, 0.03665562],\n",
              "       [0.81803119, 0.51752994, 0.25041771, 0.01669451],\n",
              "       [0.80373519, 0.55070744, 0.22325977, 0.02976797],\n",
              "       [0.786991  , 0.55745196, 0.26233033, 0.03279129],\n",
              "       [0.82307218, 0.51442011, 0.24006272, 0.01714734],\n",
              "       [0.8025126 , 0.55989251, 0.20529392, 0.01866308],\n",
              "       [0.81120865, 0.55945424, 0.16783627, 0.02797271],\n",
              "       [0.77381111, 0.59732787, 0.2036345 , 0.05430253],\n",
              "       [0.79428944, 0.57365349, 0.19121783, 0.05883625],\n",
              "       [0.80327412, 0.55126656, 0.22050662, 0.04725142],\n",
              "       [0.8068282 , 0.53788547, 0.24063297, 0.04246464],\n",
              "       [0.77964883, 0.58091482, 0.22930848, 0.0458617 ],\n",
              "       [0.8173379 , 0.51462016, 0.25731008, 0.03027177],\n",
              "       [0.78591858, 0.57017622, 0.23115252, 0.06164067],\n",
              "       [0.77577075, 0.60712493, 0.16864581, 0.03372916],\n",
              "       [0.80597792, 0.52151512, 0.26865931, 0.07901744],\n",
              "       [0.776114  , 0.54974742, 0.30721179, 0.03233808],\n",
              "       [0.82647451, 0.4958847 , 0.26447184, 0.03305898],\n",
              "       [0.79778206, 0.5424918 , 0.25529026, 0.06382256],\n",
              "       [0.80641965, 0.54278246, 0.23262105, 0.03101614],\n",
              "       [0.81609427, 0.5336001 , 0.21971769, 0.03138824],\n",
              "       [0.79524064, 0.54144043, 0.27072022, 0.03384003],\n",
              "       [0.80846584, 0.52213419, 0.26948861, 0.03368608],\n",
              "       [0.82225028, 0.51771314, 0.22840286, 0.06090743],\n",
              "       [0.76578311, 0.60379053, 0.22089897, 0.0147266 ],\n",
              "       [0.77867447, 0.59462414, 0.19820805, 0.02831544],\n",
              "       [0.81803119, 0.51752994, 0.25041771, 0.01669451],\n",
              "       [0.82512295, 0.52807869, 0.19802951, 0.03300492],\n",
              "       [0.82699754, 0.52627116, 0.19547215, 0.03007264],\n",
              "       [0.81803119, 0.51752994, 0.25041771, 0.01669451],\n",
              "       [0.80212413, 0.54690282, 0.23699122, 0.03646019],\n",
              "       [0.80779568, 0.53853046, 0.23758697, 0.03167826],\n",
              "       [0.80033301, 0.56023311, 0.20808658, 0.04801998],\n",
              "       [0.86093857, 0.44003527, 0.24871559, 0.0573959 ],\n",
              "       [0.78609038, 0.57170209, 0.23225397, 0.03573138],\n",
              "       [0.78889479, 0.55222635, 0.25244633, 0.09466737],\n",
              "       [0.76693897, 0.57144472, 0.28572236, 0.06015208],\n",
              "       [0.82210585, 0.51381615, 0.23978087, 0.05138162],\n",
              "       [0.77729093, 0.57915795, 0.24385598, 0.030482  ],\n",
              "       [0.79594782, 0.55370283, 0.24224499, 0.03460643],\n",
              "       [0.79837025, 0.55735281, 0.22595384, 0.03012718],\n",
              "       [0.81228363, 0.5361072 , 0.22743942, 0.03249135],\n",
              "       [0.76701103, 0.35063361, 0.51499312, 0.15340221],\n",
              "       [0.74549757, 0.37274878, 0.52417798, 0.17472599],\n",
              "       [0.75519285, 0.33928954, 0.53629637, 0.16417236],\n",
              "       [0.75384916, 0.31524601, 0.54825394, 0.17818253],\n",
              "       [0.7581754 , 0.32659863, 0.5365549 , 0.17496355],\n",
              "       [0.72232962, 0.35482858, 0.57026022, 0.16474184],\n",
              "       [0.72634846, 0.38046824, 0.54187901, 0.18446945],\n",
              "       [0.75916547, 0.37183615, 0.51127471, 0.15493173],\n",
              "       [0.76301853, 0.33526572, 0.53180079, 0.15029153],\n",
              "       [0.72460233, 0.37623583, 0.54345175, 0.19508524],\n",
              "       [0.76923077, 0.30769231, 0.53846154, 0.15384615],\n",
              "       [0.73923462, 0.37588201, 0.52623481, 0.187941  ],\n",
              "       [0.78892752, 0.28927343, 0.52595168, 0.13148792],\n",
              "       [0.73081412, 0.34743622, 0.56308629, 0.16772783],\n",
              "       [0.75911707, 0.3931142 , 0.48800383, 0.17622361],\n",
              "       [0.76945444, 0.35601624, 0.50531337, 0.16078153],\n",
              "       [0.70631892, 0.37838513, 0.5675777 , 0.18919257],\n",
              "       [0.75676497, 0.35228714, 0.53495455, 0.13047672],\n",
              "       [0.76444238, 0.27125375, 0.55483721, 0.18494574],\n",
              "       [0.76185188, 0.34011245, 0.53057542, 0.14964948],\n",
              "       [0.6985796 , 0.37889063, 0.56833595, 0.21312598],\n",
              "       [0.77011854, 0.35349703, 0.50499576, 0.16412362],\n",
              "       [0.74143307, 0.29421947, 0.57667016, 0.17653168],\n",
              "       [0.73659895, 0.33811099, 0.56754345, 0.14490471],\n",
              "       [0.76741698, 0.34773582, 0.51560829, 0.15588157],\n",
              "       [0.76785726, 0.34902603, 0.51190484, 0.16287881],\n",
              "       [0.76467269, 0.31486523, 0.53976896, 0.15743261],\n",
              "       [0.74088576, 0.33173989, 0.55289982, 0.18798594],\n",
              "       [0.73350949, 0.35452959, 0.55013212, 0.18337737],\n",
              "       [0.78667474, 0.35883409, 0.48304589, 0.13801311],\n",
              "       [0.76521855, 0.33391355, 0.52869645, 0.15304371],\n",
              "       [0.77242925, 0.33706004, 0.51963422, 0.14044168],\n",
              "       [0.76434981, 0.35581802, 0.51395936, 0.15814134],\n",
              "       [0.70779525, 0.31850786, 0.60162596, 0.1887454 ],\n",
              "       [0.69333409, 0.38518561, 0.57777841, 0.1925928 ],\n",
              "       [0.71524936, 0.40530797, 0.53643702, 0.19073316],\n",
              "       [0.75457341, 0.34913098, 0.52932761, 0.16893434],\n",
              "       [0.77530021, 0.28304611, 0.54147951, 0.15998258],\n",
              "       [0.72992443, 0.39103094, 0.53440896, 0.16944674],\n",
              "       [0.74714194, 0.33960997, 0.54337595, 0.17659719],\n",
              "       [0.72337118, 0.34195729, 0.57869695, 0.15782644],\n",
              "       [0.73260391, 0.36029701, 0.55245541, 0.1681386 ],\n",
              "       [0.76262994, 0.34186859, 0.52595168, 0.1577855 ],\n",
              "       [0.76986879, 0.35413965, 0.5081134 , 0.15397376],\n",
              "       [0.73544284, 0.35458851, 0.55158213, 0.1707278 ],\n",
              "       [0.73239618, 0.38547167, 0.53966034, 0.15418867],\n",
              "       [0.73446047, 0.37367287, 0.5411814 , 0.16750853],\n",
              "       [0.75728103, 0.3542121 , 0.52521104, 0.15878473],\n",
              "       [0.78258054, 0.38361791, 0.4603415 , 0.16879188],\n",
              "       [0.7431482 , 0.36505526, 0.5345452 , 0.16948994],\n",
              "       [0.65387747, 0.34250725, 0.62274045, 0.25947519],\n",
              "       [0.69052512, 0.32145135, 0.60718588, 0.22620651],\n",
              "       [0.71491405, 0.30207636, 0.59408351, 0.21145345],\n",
              "       [0.69276796, 0.31889319, 0.61579374, 0.1979337 ],\n",
              "       [0.68619022, 0.31670318, 0.61229281, 0.232249  ],\n",
              "       [0.70953708, 0.28008043, 0.61617694, 0.1960563 ],\n",
              "       [0.67054118, 0.34211284, 0.61580312, 0.23263673],\n",
              "       [0.71366557, 0.28351098, 0.61590317, 0.17597233],\n",
              "       [0.71414125, 0.26647062, 0.61821183, 0.19185884],\n",
              "       [0.69198788, 0.34599394, 0.58626751, 0.24027357],\n",
              "       [0.71562645, 0.3523084 , 0.56149152, 0.22019275],\n",
              "       [0.71576546, 0.30196356, 0.59274328, 0.21249287],\n",
              "       [0.71718148, 0.31640359, 0.58007326, 0.22148252],\n",
              "       [0.6925518 , 0.30375079, 0.60750157, 0.24300063],\n",
              "       [0.67767924, 0.32715549, 0.59589036, 0.28041899],\n",
              "       [0.69589887, 0.34794944, 0.57629125, 0.25008866],\n",
              "       [0.70610474, 0.3258945 , 0.59747324, 0.1955367 ],\n",
              "       [0.69299099, 0.34199555, 0.60299216, 0.19799743],\n",
              "       [0.70600618, 0.2383917 , 0.63265489, 0.21088496],\n",
              "       [0.72712585, 0.26661281, 0.60593821, 0.18178146],\n",
              "       [0.70558934, 0.32722984, 0.58287815, 0.23519645],\n",
              "       [0.68307923, 0.34153961, 0.59769433, 0.24395687],\n",
              "       [0.71486543, 0.25995106, 0.62202576, 0.18567933],\n",
              "       [0.73122464, 0.31338199, 0.56873028, 0.20892133],\n",
              "       [0.69595601, 0.3427843 , 0.59208198, 0.21813547],\n",
              "       [0.71529453, 0.31790868, 0.59607878, 0.17882363],\n",
              "       [0.72785195, 0.32870733, 0.56349829, 0.21131186],\n",
              "       [0.71171214, 0.35002236, 0.57170319, 0.21001342],\n",
              "       [0.69594002, 0.30447376, 0.60894751, 0.22835532],\n",
              "       [0.73089855, 0.30454106, 0.58877939, 0.1624219 ],\n",
              "       [0.72766159, 0.27533141, 0.59982915, 0.18683203],\n",
              "       [0.71578999, 0.34430405, 0.5798805 , 0.18121266],\n",
              "       [0.69417747, 0.30370264, 0.60740528, 0.2386235 ],\n",
              "       [0.72366005, 0.32162669, 0.58582004, 0.17230001],\n",
              "       [0.69385414, 0.29574111, 0.63698085, 0.15924521],\n",
              "       [0.73154399, 0.28501714, 0.57953485, 0.21851314],\n",
              "       [0.67017484, 0.36168166, 0.59571097, 0.2553047 ],\n",
              "       [0.69804799, 0.338117  , 0.59988499, 0.196326  ],\n",
              "       [0.71066905, 0.35533453, 0.56853524, 0.21320072],\n",
              "       [0.72415258, 0.32534391, 0.56672811, 0.22039426],\n",
              "       [0.69997037, 0.32386689, 0.58504986, 0.25073566],\n",
              "       [0.73337886, 0.32948905, 0.54206264, 0.24445962],\n",
              "       [0.69052512, 0.32145135, 0.60718588, 0.22620651],\n",
              "       [0.69193502, 0.32561648, 0.60035539, 0.23403685],\n",
              "       [0.68914871, 0.33943145, 0.58629069, 0.25714504],\n",
              "       [0.72155725, 0.32308533, 0.56001458, 0.24769876],\n",
              "       [0.72965359, 0.28954508, 0.57909015, 0.22005426],\n",
              "       [0.71653899, 0.3307103 , 0.57323119, 0.22047353],\n",
              "       [0.67467072, 0.36998072, 0.58761643, 0.25028107],\n",
              "       [0.69025916, 0.35097923, 0.5966647 , 0.21058754]])"
            ]
          },
          "metadata": {},
          "execution_count": 19
        }
      ]
    },
    {
      "cell_type": "code",
      "source": [
        "from sklearn.model_selection import train_test_split\n",
        "xtrain,xtest,ytrain,ytest = train_test_split(df_num1,df_cat1,test_size=0.30,random_state=1)"
      ],
      "metadata": {
        "id": "lGqJRwmMNnQO"
      },
      "execution_count": 20,
      "outputs": []
    },
    {
      "cell_type": "code",
      "source": [
        "ytrain.shape"
      ],
      "metadata": {
        "colab": {
          "base_uri": "https://localhost:8080/"
        },
        "id": "j2P_RbK2Nwn3",
        "outputId": "da9d1a8f-6cba-44a1-94eb-0f1d6d80968e"
      },
      "execution_count": 21,
      "outputs": [
        {
          "output_type": "execute_result",
          "data": {
            "text/plain": [
              "(105, 3)"
            ]
          },
          "metadata": {},
          "execution_count": 21
        }
      ]
    },
    {
      "cell_type": "code",
      "source": [
        "ytest.shape"
      ],
      "metadata": {
        "colab": {
          "base_uri": "https://localhost:8080/"
        },
        "id": "LfoF10WXN1i3",
        "outputId": "c83d55e5-38d6-43b5-a0cc-98c9a569463b"
      },
      "execution_count": 22,
      "outputs": [
        {
          "output_type": "execute_result",
          "data": {
            "text/plain": [
              "(45, 3)"
            ]
          },
          "metadata": {},
          "execution_count": 22
        }
      ]
    },
    {
      "cell_type": "code",
      "source": [
        "from keras.models import Sequential\n",
        "from keras.layers import Dense, Dropout\n",
        "from tensorflow.keras.optimizers import Adam \n",
        "\n",
        "model = Sequential()\n",
        "\n",
        "model.add(Dense(32, input_dim = 4, activation = 'relu')) \n",
        "model.add(Dense(64, activation = 'relu'))\n",
        "model.add(Dense(128, activation = 'relu'))\n",
        "model.add(Dense(64, activation = 'relu'))\n",
        "model.add(Dense(32, activation = 'relu'))\n",
        "model.add(Dropout(0.4))\n",
        "model.add(Dense(16, activation = 'relu'))\n",
        "model.add(Dense(3, activation = 'softmax'))\n",
        "optimizer = Adam(lr=0.001)\n",
        "model.compile(optimizer, loss = 'categorical_crossentropy', metrics = ['accuracy'])\n",
        "\n",
        "model.summary()\n",
        "Model: \"sequential\""
      ],
      "metadata": {
        "colab": {
          "base_uri": "https://localhost:8080/"
        },
        "id": "9TsbKxaLN-II",
        "outputId": "3ad04529-fba2-4339-e5cf-1fb42e2dcf16"
      },
      "execution_count": 23,
      "outputs": [
        {
          "output_type": "stream",
          "name": "stdout",
          "text": [
            "Model: \"sequential\"\n",
            "_________________________________________________________________\n",
            " Layer (type)                Output Shape              Param #   \n",
            "=================================================================\n",
            " dense (Dense)               (None, 32)                160       \n",
            "                                                                 \n",
            " dense_1 (Dense)             (None, 64)                2112      \n",
            "                                                                 \n",
            " dense_2 (Dense)             (None, 128)               8320      \n",
            "                                                                 \n",
            " dense_3 (Dense)             (None, 64)                8256      \n",
            "                                                                 \n",
            " dense_4 (Dense)             (None, 32)                2080      \n",
            "                                                                 \n",
            " dropout (Dropout)           (None, 32)                0         \n",
            "                                                                 \n",
            " dense_5 (Dense)             (None, 16)                528       \n",
            "                                                                 \n",
            " dense_6 (Dense)             (None, 3)                 51        \n",
            "                                                                 \n",
            "=================================================================\n",
            "Total params: 21,507\n",
            "Trainable params: 21,507\n",
            "Non-trainable params: 0\n",
            "_________________________________________________________________\n"
          ]
        }
      ]
    },
    {
      "cell_type": "code",
      "source": [
        "model.compile(loss='categorical_crossentropy', optimizer='adam', metrics=['accuracy'])"
      ],
      "metadata": {
        "id": "jg0coJaFOBPB"
      },
      "execution_count": 24,
      "outputs": []
    },
    {
      "cell_type": "code",
      "source": [
        "history = model.fit(xtrain,ytrain,epochs=250,batch_size=10, verbose=1, validation_data=(xtest, ytest))"
      ],
      "metadata": {
        "colab": {
          "base_uri": "https://localhost:8080/"
        },
        "id": "9Rv0gSWVOFsb",
        "outputId": "b85e6e58-fee0-41b7-b907-bed2d4015877"
      },
      "execution_count": 25,
      "outputs": [
        {
          "output_type": "stream",
          "name": "stdout",
          "text": [
            "Epoch 1/250\n",
            "11/11 [==============================] - 2s 44ms/step - loss: 1.0933 - accuracy: 0.4381 - val_loss: 1.0818 - val_accuracy: 0.6000\n",
            "Epoch 2/250\n",
            "11/11 [==============================] - 0s 12ms/step - loss: 1.0713 - accuracy: 0.5143 - val_loss: 1.0524 - val_accuracy: 0.6000\n",
            "Epoch 3/250\n",
            "11/11 [==============================] - 0s 18ms/step - loss: 1.0341 - accuracy: 0.6476 - val_loss: 0.9972 - val_accuracy: 0.6000\n",
            "Epoch 4/250\n",
            "11/11 [==============================] - 0s 14ms/step - loss: 0.9620 - accuracy: 0.6286 - val_loss: 0.9005 - val_accuracy: 0.6000\n",
            "Epoch 5/250\n",
            "11/11 [==============================] - 0s 11ms/step - loss: 0.8604 - accuracy: 0.6857 - val_loss: 0.7666 - val_accuracy: 0.6000\n",
            "Epoch 6/250\n",
            "11/11 [==============================] - 0s 14ms/step - loss: 0.7113 - accuracy: 0.6857 - val_loss: 0.6423 - val_accuracy: 0.6000\n",
            "Epoch 7/250\n",
            "11/11 [==============================] - 0s 15ms/step - loss: 0.6011 - accuracy: 0.6952 - val_loss: 0.5436 - val_accuracy: 0.6222\n",
            "Epoch 8/250\n",
            "11/11 [==============================] - 0s 15ms/step - loss: 0.4967 - accuracy: 0.7619 - val_loss: 0.4640 - val_accuracy: 0.7778\n",
            "Epoch 9/250\n",
            "11/11 [==============================] - 0s 12ms/step - loss: 0.4214 - accuracy: 0.8095 - val_loss: 0.4163 - val_accuracy: 0.7778\n",
            "Epoch 10/250\n",
            "11/11 [==============================] - 0s 11ms/step - loss: 0.4099 - accuracy: 0.8381 - val_loss: 0.3593 - val_accuracy: 0.8889\n",
            "Epoch 11/250\n",
            "11/11 [==============================] - 0s 13ms/step - loss: 0.3398 - accuracy: 0.8857 - val_loss: 0.3173 - val_accuracy: 0.9111\n",
            "Epoch 12/250\n",
            "11/11 [==============================] - 0s 16ms/step - loss: 0.3174 - accuracy: 0.8762 - val_loss: 0.3346 - val_accuracy: 0.8222\n",
            "Epoch 13/250\n",
            "11/11 [==============================] - 0s 10ms/step - loss: 0.3754 - accuracy: 0.8286 - val_loss: 0.3210 - val_accuracy: 0.8444\n",
            "Epoch 14/250\n",
            "11/11 [==============================] - 0s 11ms/step - loss: 0.2972 - accuracy: 0.8857 - val_loss: 0.2521 - val_accuracy: 0.9333\n",
            "Epoch 15/250\n",
            "11/11 [==============================] - 0s 15ms/step - loss: 0.2899 - accuracy: 0.8762 - val_loss: 0.2522 - val_accuracy: 0.9333\n",
            "Epoch 16/250\n",
            "11/11 [==============================] - 0s 16ms/step - loss: 0.2248 - accuracy: 0.9333 - val_loss: 0.1957 - val_accuracy: 0.9556\n",
            "Epoch 17/250\n",
            "11/11 [==============================] - 0s 12ms/step - loss: 0.2036 - accuracy: 0.9333 - val_loss: 0.1626 - val_accuracy: 0.9556\n",
            "Epoch 18/250\n",
            "11/11 [==============================] - 0s 14ms/step - loss: 0.1761 - accuracy: 0.9333 - val_loss: 0.1569 - val_accuracy: 0.9556\n",
            "Epoch 19/250\n",
            "11/11 [==============================] - 0s 14ms/step - loss: 0.2312 - accuracy: 0.9333 - val_loss: 0.1394 - val_accuracy: 0.9556\n",
            "Epoch 20/250\n",
            "11/11 [==============================] - 0s 13ms/step - loss: 0.2376 - accuracy: 0.9143 - val_loss: 0.1368 - val_accuracy: 0.9556\n",
            "Epoch 21/250\n",
            "11/11 [==============================] - 0s 10ms/step - loss: 0.1619 - accuracy: 0.9524 - val_loss: 0.1243 - val_accuracy: 0.9556\n",
            "Epoch 22/250\n",
            "11/11 [==============================] - 0s 11ms/step - loss: 0.1771 - accuracy: 0.9619 - val_loss: 0.1170 - val_accuracy: 0.9556\n",
            "Epoch 23/250\n",
            "11/11 [==============================] - 0s 10ms/step - loss: 0.1866 - accuracy: 0.9429 - val_loss: 0.1315 - val_accuracy: 0.9556\n",
            "Epoch 24/250\n",
            "11/11 [==============================] - 0s 15ms/step - loss: 0.1618 - accuracy: 0.9238 - val_loss: 0.1205 - val_accuracy: 0.9778\n",
            "Epoch 25/250\n",
            "11/11 [==============================] - 0s 12ms/step - loss: 0.1493 - accuracy: 0.9524 - val_loss: 0.1113 - val_accuracy: 0.9778\n",
            "Epoch 26/250\n",
            "11/11 [==============================] - 0s 29ms/step - loss: 0.1492 - accuracy: 0.9524 - val_loss: 0.1555 - val_accuracy: 0.9333\n",
            "Epoch 27/250\n",
            "11/11 [==============================] - 0s 12ms/step - loss: 0.1956 - accuracy: 0.9429 - val_loss: 0.3073 - val_accuracy: 0.8444\n",
            "Epoch 28/250\n",
            "11/11 [==============================] - 0s 9ms/step - loss: 0.2137 - accuracy: 0.9333 - val_loss: 0.1112 - val_accuracy: 0.9556\n",
            "Epoch 29/250\n",
            "11/11 [==============================] - 0s 19ms/step - loss: 0.1717 - accuracy: 0.9238 - val_loss: 0.1188 - val_accuracy: 0.9556\n",
            "Epoch 30/250\n",
            "11/11 [==============================] - 0s 16ms/step - loss: 0.1392 - accuracy: 0.9524 - val_loss: 0.1033 - val_accuracy: 0.9556\n",
            "Epoch 31/250\n",
            "11/11 [==============================] - 0s 11ms/step - loss: 0.1505 - accuracy: 0.9429 - val_loss: 0.0984 - val_accuracy: 0.9556\n",
            "Epoch 32/250\n",
            "11/11 [==============================] - 0s 22ms/step - loss: 0.1999 - accuracy: 0.9333 - val_loss: 0.1653 - val_accuracy: 0.9556\n",
            "Epoch 33/250\n",
            "11/11 [==============================] - 0s 14ms/step - loss: 0.1412 - accuracy: 0.9429 - val_loss: 0.0996 - val_accuracy: 0.9778\n",
            "Epoch 34/250\n",
            "11/11 [==============================] - 0s 19ms/step - loss: 0.1582 - accuracy: 0.9429 - val_loss: 0.1061 - val_accuracy: 0.9556\n",
            "Epoch 35/250\n",
            "11/11 [==============================] - 0s 9ms/step - loss: 0.1238 - accuracy: 0.9810 - val_loss: 0.0967 - val_accuracy: 0.9778\n",
            "Epoch 36/250\n",
            "11/11 [==============================] - 0s 9ms/step - loss: 0.1747 - accuracy: 0.9429 - val_loss: 0.0931 - val_accuracy: 0.9556\n",
            "Epoch 37/250\n",
            "11/11 [==============================] - 0s 14ms/step - loss: 0.1201 - accuracy: 0.9429 - val_loss: 0.0882 - val_accuracy: 0.9556\n",
            "Epoch 38/250\n",
            "11/11 [==============================] - 0s 10ms/step - loss: 0.1614 - accuracy: 0.9619 - val_loss: 0.0991 - val_accuracy: 0.9778\n",
            "Epoch 39/250\n",
            "11/11 [==============================] - 0s 10ms/step - loss: 0.1344 - accuracy: 0.9524 - val_loss: 0.0939 - val_accuracy: 0.9556\n",
            "Epoch 40/250\n",
            "11/11 [==============================] - 0s 10ms/step - loss: 0.1475 - accuracy: 0.9429 - val_loss: 0.0936 - val_accuracy: 0.9778\n",
            "Epoch 41/250\n",
            "11/11 [==============================] - 0s 13ms/step - loss: 0.1239 - accuracy: 0.9619 - val_loss: 0.0947 - val_accuracy: 0.9778\n",
            "Epoch 42/250\n",
            "11/11 [==============================] - 0s 9ms/step - loss: 0.1229 - accuracy: 0.9619 - val_loss: 0.0923 - val_accuracy: 0.9778\n",
            "Epoch 43/250\n",
            "11/11 [==============================] - 0s 13ms/step - loss: 0.1168 - accuracy: 0.9619 - val_loss: 0.0916 - val_accuracy: 0.9556\n",
            "Epoch 44/250\n",
            "11/11 [==============================] - 0s 12ms/step - loss: 0.1360 - accuracy: 0.9619 - val_loss: 0.1391 - val_accuracy: 0.9556\n",
            "Epoch 45/250\n",
            "11/11 [==============================] - 0s 10ms/step - loss: 0.1770 - accuracy: 0.9143 - val_loss: 0.1117 - val_accuracy: 0.9778\n",
            "Epoch 46/250\n",
            "11/11 [==============================] - 0s 9ms/step - loss: 0.1382 - accuracy: 0.9619 - val_loss: 0.1275 - val_accuracy: 0.9556\n",
            "Epoch 47/250\n",
            "11/11 [==============================] - 0s 12ms/step - loss: 0.1229 - accuracy: 0.9524 - val_loss: 0.1006 - val_accuracy: 0.9778\n",
            "Epoch 48/250\n",
            "11/11 [==============================] - 0s 13ms/step - loss: 0.1159 - accuracy: 0.9524 - val_loss: 0.1591 - val_accuracy: 0.9333\n",
            "Epoch 49/250\n",
            "11/11 [==============================] - 0s 14ms/step - loss: 0.1359 - accuracy: 0.9524 - val_loss: 0.1023 - val_accuracy: 0.9778\n",
            "Epoch 50/250\n",
            "11/11 [==============================] - 0s 9ms/step - loss: 0.1197 - accuracy: 0.9619 - val_loss: 0.0876 - val_accuracy: 0.9556\n",
            "Epoch 51/250\n",
            "11/11 [==============================] - 0s 12ms/step - loss: 0.1344 - accuracy: 0.9619 - val_loss: 0.0993 - val_accuracy: 0.9556\n",
            "Epoch 52/250\n",
            "11/11 [==============================] - 0s 14ms/step - loss: 0.1174 - accuracy: 0.9524 - val_loss: 0.0888 - val_accuracy: 0.9778\n",
            "Epoch 53/250\n",
            "11/11 [==============================] - 0s 10ms/step - loss: 0.1160 - accuracy: 0.9619 - val_loss: 0.0883 - val_accuracy: 0.9778\n",
            "Epoch 54/250\n",
            "11/11 [==============================] - 0s 10ms/step - loss: 0.1207 - accuracy: 0.9524 - val_loss: 0.0933 - val_accuracy: 0.9778\n",
            "Epoch 55/250\n",
            "11/11 [==============================] - 0s 9ms/step - loss: 0.1038 - accuracy: 0.9619 - val_loss: 0.0811 - val_accuracy: 0.9778\n",
            "Epoch 56/250\n",
            "11/11 [==============================] - 0s 14ms/step - loss: 0.1359 - accuracy: 0.9524 - val_loss: 0.0798 - val_accuracy: 0.9556\n",
            "Epoch 57/250\n",
            "11/11 [==============================] - 0s 12ms/step - loss: 0.1670 - accuracy: 0.9238 - val_loss: 0.1716 - val_accuracy: 0.9111\n",
            "Epoch 58/250\n",
            "11/11 [==============================] - 0s 14ms/step - loss: 0.2178 - accuracy: 0.9333 - val_loss: 0.1176 - val_accuracy: 0.9778\n",
            "Epoch 59/250\n",
            "11/11 [==============================] - 0s 17ms/step - loss: 0.1327 - accuracy: 0.9524 - val_loss: 0.1592 - val_accuracy: 0.9556\n",
            "Epoch 60/250\n",
            "11/11 [==============================] - 0s 14ms/step - loss: 0.1891 - accuracy: 0.9333 - val_loss: 0.1045 - val_accuracy: 0.9778\n",
            "Epoch 61/250\n",
            "11/11 [==============================] - 0s 12ms/step - loss: 0.2209 - accuracy: 0.9238 - val_loss: 0.0937 - val_accuracy: 0.9556\n",
            "Epoch 62/250\n",
            "11/11 [==============================] - 0s 16ms/step - loss: 0.1344 - accuracy: 0.9619 - val_loss: 0.0959 - val_accuracy: 0.9556\n",
            "Epoch 63/250\n",
            "11/11 [==============================] - 0s 16ms/step - loss: 0.1296 - accuracy: 0.9429 - val_loss: 0.0953 - val_accuracy: 0.9778\n",
            "Epoch 64/250\n",
            "11/11 [==============================] - 0s 11ms/step - loss: 0.1032 - accuracy: 0.9524 - val_loss: 0.0900 - val_accuracy: 0.9556\n",
            "Epoch 65/250\n",
            "11/11 [==============================] - 0s 14ms/step - loss: 0.0920 - accuracy: 0.9714 - val_loss: 0.0804 - val_accuracy: 0.9556\n",
            "Epoch 66/250\n",
            "11/11 [==============================] - 0s 9ms/step - loss: 0.1109 - accuracy: 0.9714 - val_loss: 0.0969 - val_accuracy: 0.9556\n",
            "Epoch 67/250\n",
            "11/11 [==============================] - 0s 14ms/step - loss: 0.1318 - accuracy: 0.9714 - val_loss: 0.0840 - val_accuracy: 0.9778\n",
            "Epoch 68/250\n",
            "11/11 [==============================] - 0s 10ms/step - loss: 0.1124 - accuracy: 0.9619 - val_loss: 0.1257 - val_accuracy: 0.9556\n",
            "Epoch 69/250\n",
            "11/11 [==============================] - 0s 13ms/step - loss: 0.1219 - accuracy: 0.9524 - val_loss: 0.0913 - val_accuracy: 0.9778\n",
            "Epoch 70/250\n",
            "11/11 [==============================] - 0s 10ms/step - loss: 0.1517 - accuracy: 0.9429 - val_loss: 0.0865 - val_accuracy: 0.9778\n",
            "Epoch 71/250\n",
            "11/11 [==============================] - 0s 10ms/step - loss: 0.0903 - accuracy: 0.9810 - val_loss: 0.0898 - val_accuracy: 0.9778\n",
            "Epoch 72/250\n",
            "11/11 [==============================] - 0s 18ms/step - loss: 0.1289 - accuracy: 0.9429 - val_loss: 0.1349 - val_accuracy: 0.9556\n",
            "Epoch 73/250\n",
            "11/11 [==============================] - 0s 19ms/step - loss: 0.1548 - accuracy: 0.9238 - val_loss: 0.0860 - val_accuracy: 0.9778\n",
            "Epoch 74/250\n",
            "11/11 [==============================] - 0s 11ms/step - loss: 0.1136 - accuracy: 0.9619 - val_loss: 0.0822 - val_accuracy: 0.9556\n",
            "Epoch 75/250\n",
            "11/11 [==============================] - 0s 9ms/step - loss: 0.1113 - accuracy: 0.9714 - val_loss: 0.0937 - val_accuracy: 0.9778\n",
            "Epoch 76/250\n",
            "11/11 [==============================] - 0s 10ms/step - loss: 0.1582 - accuracy: 0.9333 - val_loss: 0.0958 - val_accuracy: 0.9778\n",
            "Epoch 77/250\n",
            "11/11 [==============================] - 0s 10ms/step - loss: 0.1346 - accuracy: 0.9524 - val_loss: 0.0924 - val_accuracy: 0.9778\n",
            "Epoch 78/250\n",
            "11/11 [==============================] - 0s 23ms/step - loss: 0.1202 - accuracy: 0.9619 - val_loss: 0.1373 - val_accuracy: 0.9556\n",
            "Epoch 79/250\n",
            "11/11 [==============================] - 0s 12ms/step - loss: 0.1181 - accuracy: 0.9524 - val_loss: 0.1170 - val_accuracy: 0.9556\n",
            "Epoch 80/250\n",
            "11/11 [==============================] - 0s 18ms/step - loss: 0.1191 - accuracy: 0.9619 - val_loss: 0.0955 - val_accuracy: 0.9778\n",
            "Epoch 81/250\n",
            "11/11 [==============================] - 0s 28ms/step - loss: 0.1161 - accuracy: 0.9524 - val_loss: 0.0742 - val_accuracy: 0.9778\n",
            "Epoch 82/250\n",
            "11/11 [==============================] - 0s 18ms/step - loss: 0.1713 - accuracy: 0.9333 - val_loss: 0.1615 - val_accuracy: 0.9111\n",
            "Epoch 83/250\n",
            "11/11 [==============================] - 0s 15ms/step - loss: 0.2185 - accuracy: 0.8857 - val_loss: 0.0820 - val_accuracy: 0.9556\n",
            "Epoch 84/250\n",
            "11/11 [==============================] - 0s 18ms/step - loss: 0.1188 - accuracy: 0.9619 - val_loss: 0.1158 - val_accuracy: 0.9556\n",
            "Epoch 85/250\n",
            "11/11 [==============================] - 0s 16ms/step - loss: 0.1090 - accuracy: 0.9619 - val_loss: 0.1389 - val_accuracy: 0.9556\n",
            "Epoch 86/250\n",
            "11/11 [==============================] - 0s 12ms/step - loss: 0.1143 - accuracy: 0.9429 - val_loss: 0.1220 - val_accuracy: 0.9556\n",
            "Epoch 87/250\n",
            "11/11 [==============================] - 0s 10ms/step - loss: 0.0989 - accuracy: 0.9619 - val_loss: 0.0965 - val_accuracy: 0.9778\n",
            "Epoch 88/250\n",
            "11/11 [==============================] - 0s 15ms/step - loss: 0.1377 - accuracy: 0.9524 - val_loss: 0.1038 - val_accuracy: 0.9556\n",
            "Epoch 89/250\n",
            "11/11 [==============================] - 0s 23ms/step - loss: 0.1302 - accuracy: 0.9619 - val_loss: 0.1832 - val_accuracy: 0.9111\n",
            "Epoch 90/250\n",
            "11/11 [==============================] - 0s 21ms/step - loss: 0.1382 - accuracy: 0.9429 - val_loss: 0.0888 - val_accuracy: 0.9778\n",
            "Epoch 91/250\n",
            "11/11 [==============================] - 0s 13ms/step - loss: 0.1958 - accuracy: 0.9238 - val_loss: 0.0824 - val_accuracy: 0.9778\n",
            "Epoch 92/250\n",
            "11/11 [==============================] - 0s 10ms/step - loss: 0.1305 - accuracy: 0.9524 - val_loss: 0.1212 - val_accuracy: 0.9556\n",
            "Epoch 93/250\n",
            "11/11 [==============================] - 0s 10ms/step - loss: 0.1657 - accuracy: 0.9429 - val_loss: 0.0818 - val_accuracy: 0.9778\n",
            "Epoch 94/250\n",
            "11/11 [==============================] - 0s 10ms/step - loss: 0.1231 - accuracy: 0.9524 - val_loss: 0.0846 - val_accuracy: 0.9778\n",
            "Epoch 95/250\n",
            "11/11 [==============================] - 0s 29ms/step - loss: 0.1198 - accuracy: 0.9524 - val_loss: 0.0802 - val_accuracy: 0.9778\n",
            "Epoch 96/250\n",
            "11/11 [==============================] - 0s 17ms/step - loss: 0.1124 - accuracy: 0.9619 - val_loss: 0.0871 - val_accuracy: 0.9778\n",
            "Epoch 97/250\n",
            "11/11 [==============================] - 0s 19ms/step - loss: 0.1565 - accuracy: 0.9524 - val_loss: 0.0913 - val_accuracy: 0.9778\n",
            "Epoch 98/250\n",
            "11/11 [==============================] - 0s 24ms/step - loss: 0.1735 - accuracy: 0.9524 - val_loss: 0.0891 - val_accuracy: 0.9778\n",
            "Epoch 99/250\n",
            "11/11 [==============================] - 0s 21ms/step - loss: 0.1264 - accuracy: 0.9619 - val_loss: 0.0921 - val_accuracy: 0.9556\n",
            "Epoch 100/250\n",
            "11/11 [==============================] - 0s 10ms/step - loss: 0.1145 - accuracy: 0.9619 - val_loss: 0.0898 - val_accuracy: 0.9778\n",
            "Epoch 101/250\n",
            "11/11 [==============================] - 0s 17ms/step - loss: 0.1244 - accuracy: 0.9429 - val_loss: 0.0835 - val_accuracy: 0.9778\n",
            "Epoch 102/250\n",
            "11/11 [==============================] - 0s 19ms/step - loss: 0.1201 - accuracy: 0.9524 - val_loss: 0.0779 - val_accuracy: 0.9778\n",
            "Epoch 103/250\n",
            "11/11 [==============================] - 0s 15ms/step - loss: 0.1485 - accuracy: 0.9524 - val_loss: 0.0766 - val_accuracy: 0.9778\n",
            "Epoch 104/250\n",
            "11/11 [==============================] - 0s 17ms/step - loss: 0.1222 - accuracy: 0.9333 - val_loss: 0.0773 - val_accuracy: 0.9778\n",
            "Epoch 105/250\n",
            "11/11 [==============================] - 0s 24ms/step - loss: 0.1104 - accuracy: 0.9524 - val_loss: 0.1098 - val_accuracy: 0.9556\n",
            "Epoch 106/250\n",
            "11/11 [==============================] - 0s 32ms/step - loss: 0.1569 - accuracy: 0.9238 - val_loss: 0.0746 - val_accuracy: 0.9778\n",
            "Epoch 107/250\n",
            "11/11 [==============================] - 0s 23ms/step - loss: 0.1916 - accuracy: 0.9143 - val_loss: 0.0824 - val_accuracy: 0.9778\n",
            "Epoch 108/250\n",
            "11/11 [==============================] - 0s 23ms/step - loss: 0.1499 - accuracy: 0.9333 - val_loss: 0.0841 - val_accuracy: 0.9778\n",
            "Epoch 109/250\n",
            "11/11 [==============================] - 0s 15ms/step - loss: 0.1179 - accuracy: 0.9619 - val_loss: 0.0826 - val_accuracy: 0.9778\n",
            "Epoch 110/250\n",
            "11/11 [==============================] - 0s 23ms/step - loss: 0.0896 - accuracy: 0.9714 - val_loss: 0.0754 - val_accuracy: 0.9778\n",
            "Epoch 111/250\n",
            "11/11 [==============================] - 0s 14ms/step - loss: 0.1057 - accuracy: 0.9619 - val_loss: 0.0720 - val_accuracy: 0.9778\n",
            "Epoch 112/250\n",
            "11/11 [==============================] - 0s 21ms/step - loss: 0.1026 - accuracy: 0.9714 - val_loss: 0.0702 - val_accuracy: 0.9778\n",
            "Epoch 113/250\n",
            "11/11 [==============================] - 0s 19ms/step - loss: 0.1017 - accuracy: 0.9619 - val_loss: 0.0877 - val_accuracy: 0.9778\n",
            "Epoch 114/250\n",
            "11/11 [==============================] - 0s 21ms/step - loss: 0.1163 - accuracy: 0.9524 - val_loss: 0.0820 - val_accuracy: 0.9778\n",
            "Epoch 115/250\n",
            "11/11 [==============================] - 0s 21ms/step - loss: 0.1065 - accuracy: 0.9619 - val_loss: 0.0671 - val_accuracy: 0.9778\n",
            "Epoch 116/250\n",
            "11/11 [==============================] - 0s 28ms/step - loss: 0.1201 - accuracy: 0.9524 - val_loss: 0.0821 - val_accuracy: 0.9778\n",
            "Epoch 117/250\n",
            "11/11 [==============================] - 0s 22ms/step - loss: 0.1150 - accuracy: 0.9429 - val_loss: 0.0890 - val_accuracy: 0.9556\n",
            "Epoch 118/250\n",
            "11/11 [==============================] - 0s 20ms/step - loss: 0.1526 - accuracy: 0.9429 - val_loss: 0.0747 - val_accuracy: 0.9778\n",
            "Epoch 119/250\n",
            "11/11 [==============================] - 0s 11ms/step - loss: 0.1543 - accuracy: 0.9429 - val_loss: 0.0817 - val_accuracy: 0.9778\n",
            "Epoch 120/250\n",
            "11/11 [==============================] - 0s 10ms/step - loss: 0.0938 - accuracy: 0.9714 - val_loss: 0.0897 - val_accuracy: 0.9778\n",
            "Epoch 121/250\n",
            "11/11 [==============================] - 0s 12ms/step - loss: 0.0957 - accuracy: 0.9619 - val_loss: 0.0722 - val_accuracy: 0.9778\n",
            "Epoch 122/250\n",
            "11/11 [==============================] - 0s 9ms/step - loss: 0.0790 - accuracy: 0.9714 - val_loss: 0.0679 - val_accuracy: 0.9556\n",
            "Epoch 123/250\n",
            "11/11 [==============================] - 0s 7ms/step - loss: 0.1172 - accuracy: 0.9619 - val_loss: 0.0636 - val_accuracy: 0.9778\n",
            "Epoch 124/250\n",
            "11/11 [==============================] - 0s 8ms/step - loss: 0.1981 - accuracy: 0.9333 - val_loss: 0.0996 - val_accuracy: 0.9556\n",
            "Epoch 125/250\n",
            "11/11 [==============================] - 0s 10ms/step - loss: 0.1056 - accuracy: 0.9810 - val_loss: 0.1291 - val_accuracy: 0.9556\n",
            "Epoch 126/250\n",
            "11/11 [==============================] - 0s 13ms/step - loss: 0.1353 - accuracy: 0.9524 - val_loss: 0.1251 - val_accuracy: 0.9556\n",
            "Epoch 127/250\n",
            "11/11 [==============================] - 0s 8ms/step - loss: 0.1119 - accuracy: 0.9619 - val_loss: 0.0888 - val_accuracy: 0.9778\n",
            "Epoch 128/250\n",
            "11/11 [==============================] - 0s 21ms/step - loss: 0.1028 - accuracy: 0.9619 - val_loss: 0.0801 - val_accuracy: 0.9778\n",
            "Epoch 129/250\n",
            "11/11 [==============================] - 0s 12ms/step - loss: 0.0838 - accuracy: 0.9619 - val_loss: 0.0892 - val_accuracy: 0.9778\n",
            "Epoch 130/250\n",
            "11/11 [==============================] - 0s 10ms/step - loss: 0.0968 - accuracy: 0.9619 - val_loss: 0.0901 - val_accuracy: 0.9778\n",
            "Epoch 131/250\n",
            "11/11 [==============================] - 0s 12ms/step - loss: 0.1037 - accuracy: 0.9524 - val_loss: 0.0599 - val_accuracy: 0.9778\n",
            "Epoch 132/250\n",
            "11/11 [==============================] - 0s 23ms/step - loss: 0.1010 - accuracy: 0.9619 - val_loss: 0.0624 - val_accuracy: 0.9778\n",
            "Epoch 133/250\n",
            "11/11 [==============================] - 0s 25ms/step - loss: 0.1079 - accuracy: 0.9524 - val_loss: 0.0686 - val_accuracy: 0.9778\n",
            "Epoch 134/250\n",
            "11/11 [==============================] - 0s 26ms/step - loss: 0.1194 - accuracy: 0.9619 - val_loss: 0.0662 - val_accuracy: 0.9778\n",
            "Epoch 135/250\n",
            "11/11 [==============================] - 0s 17ms/step - loss: 0.1015 - accuracy: 0.9619 - val_loss: 0.0705 - val_accuracy: 0.9778\n",
            "Epoch 136/250\n",
            "11/11 [==============================] - 0s 21ms/step - loss: 0.0901 - accuracy: 0.9714 - val_loss: 0.0626 - val_accuracy: 0.9778\n",
            "Epoch 137/250\n",
            "11/11 [==============================] - 0s 16ms/step - loss: 0.1159 - accuracy: 0.9429 - val_loss: 0.0630 - val_accuracy: 0.9778\n",
            "Epoch 138/250\n",
            "11/11 [==============================] - 0s 18ms/step - loss: 0.1069 - accuracy: 0.9619 - val_loss: 0.0621 - val_accuracy: 0.9778\n",
            "Epoch 139/250\n",
            "11/11 [==============================] - 0s 18ms/step - loss: 0.1230 - accuracy: 0.9524 - val_loss: 0.0665 - val_accuracy: 0.9778\n",
            "Epoch 140/250\n",
            "11/11 [==============================] - 0s 12ms/step - loss: 0.1133 - accuracy: 0.9524 - val_loss: 0.0893 - val_accuracy: 0.9556\n",
            "Epoch 141/250\n",
            "11/11 [==============================] - 0s 16ms/step - loss: 0.1020 - accuracy: 0.9714 - val_loss: 0.0693 - val_accuracy: 0.9778\n",
            "Epoch 142/250\n",
            "11/11 [==============================] - 0s 10ms/step - loss: 0.0795 - accuracy: 0.9810 - val_loss: 0.0697 - val_accuracy: 0.9778\n",
            "Epoch 143/250\n",
            "11/11 [==============================] - 0s 15ms/step - loss: 0.0930 - accuracy: 0.9619 - val_loss: 0.0755 - val_accuracy: 0.9778\n",
            "Epoch 144/250\n",
            "11/11 [==============================] - 0s 11ms/step - loss: 0.1342 - accuracy: 0.9524 - val_loss: 0.0622 - val_accuracy: 0.9778\n",
            "Epoch 145/250\n",
            "11/11 [==============================] - 0s 8ms/step - loss: 0.1103 - accuracy: 0.9429 - val_loss: 0.0634 - val_accuracy: 0.9778\n",
            "Epoch 146/250\n",
            "11/11 [==============================] - 0s 9ms/step - loss: 0.0968 - accuracy: 0.9619 - val_loss: 0.0680 - val_accuracy: 0.9778\n",
            "Epoch 147/250\n",
            "11/11 [==============================] - 0s 10ms/step - loss: 0.1221 - accuracy: 0.9524 - val_loss: 0.1035 - val_accuracy: 0.9778\n",
            "Epoch 148/250\n",
            "11/11 [==============================] - 0s 12ms/step - loss: 0.1331 - accuracy: 0.9619 - val_loss: 0.0847 - val_accuracy: 0.9778\n",
            "Epoch 149/250\n",
            "11/11 [==============================] - 0s 15ms/step - loss: 0.1198 - accuracy: 0.9619 - val_loss: 0.0824 - val_accuracy: 0.9778\n",
            "Epoch 150/250\n",
            "11/11 [==============================] - 0s 15ms/step - loss: 0.0984 - accuracy: 0.9714 - val_loss: 0.0713 - val_accuracy: 0.9778\n",
            "Epoch 151/250\n",
            "11/11 [==============================] - 0s 21ms/step - loss: 0.1154 - accuracy: 0.9524 - val_loss: 0.0834 - val_accuracy: 0.9778\n",
            "Epoch 152/250\n",
            "11/11 [==============================] - 0s 18ms/step - loss: 0.1117 - accuracy: 0.9619 - val_loss: 0.0733 - val_accuracy: 0.9778\n",
            "Epoch 153/250\n",
            "11/11 [==============================] - 0s 13ms/step - loss: 0.0807 - accuracy: 0.9810 - val_loss: 0.0678 - val_accuracy: 0.9778\n",
            "Epoch 154/250\n",
            "11/11 [==============================] - 0s 12ms/step - loss: 0.0947 - accuracy: 0.9714 - val_loss: 0.0669 - val_accuracy: 0.9778\n",
            "Epoch 155/250\n",
            "11/11 [==============================] - 0s 14ms/step - loss: 0.1080 - accuracy: 0.9714 - val_loss: 0.0758 - val_accuracy: 0.9778\n",
            "Epoch 156/250\n",
            "11/11 [==============================] - 0s 7ms/step - loss: 0.1529 - accuracy: 0.9429 - val_loss: 0.0903 - val_accuracy: 0.9556\n",
            "Epoch 157/250\n",
            "11/11 [==============================] - 0s 10ms/step - loss: 0.1606 - accuracy: 0.9333 - val_loss: 0.0911 - val_accuracy: 0.9556\n",
            "Epoch 158/250\n",
            "11/11 [==============================] - 0s 10ms/step - loss: 0.1723 - accuracy: 0.9524 - val_loss: 0.0760 - val_accuracy: 0.9778\n",
            "Epoch 159/250\n",
            "11/11 [==============================] - 0s 13ms/step - loss: 0.1147 - accuracy: 0.9714 - val_loss: 0.0935 - val_accuracy: 0.9556\n",
            "Epoch 160/250\n",
            "11/11 [==============================] - 0s 21ms/step - loss: 0.0877 - accuracy: 0.9619 - val_loss: 0.1320 - val_accuracy: 0.9111\n",
            "Epoch 161/250\n",
            "11/11 [==============================] - 0s 12ms/step - loss: 0.1343 - accuracy: 0.9429 - val_loss: 0.0806 - val_accuracy: 0.9556\n",
            "Epoch 162/250\n",
            "11/11 [==============================] - 0s 9ms/step - loss: 0.1301 - accuracy: 0.9524 - val_loss: 0.0728 - val_accuracy: 0.9778\n",
            "Epoch 163/250\n",
            "11/11 [==============================] - 0s 19ms/step - loss: 0.2434 - accuracy: 0.8952 - val_loss: 0.2398 - val_accuracy: 0.8889\n",
            "Epoch 164/250\n",
            "11/11 [==============================] - 0s 13ms/step - loss: 0.1408 - accuracy: 0.9619 - val_loss: 0.1628 - val_accuracy: 0.9333\n",
            "Epoch 165/250\n",
            "11/11 [==============================] - 0s 17ms/step - loss: 0.1207 - accuracy: 0.9429 - val_loss: 0.1162 - val_accuracy: 0.9556\n",
            "Epoch 166/250\n",
            "11/11 [==============================] - 0s 9ms/step - loss: 0.1123 - accuracy: 0.9714 - val_loss: 0.0812 - val_accuracy: 0.9778\n",
            "Epoch 167/250\n",
            "11/11 [==============================] - 0s 15ms/step - loss: 0.1054 - accuracy: 0.9524 - val_loss: 0.0758 - val_accuracy: 0.9778\n",
            "Epoch 168/250\n",
            "11/11 [==============================] - 0s 9ms/step - loss: 0.1235 - accuracy: 0.9619 - val_loss: 0.0697 - val_accuracy: 0.9778\n",
            "Epoch 169/250\n",
            "11/11 [==============================] - 0s 12ms/step - loss: 0.1202 - accuracy: 0.9429 - val_loss: 0.0666 - val_accuracy: 0.9778\n",
            "Epoch 170/250\n",
            "11/11 [==============================] - 0s 12ms/step - loss: 0.0857 - accuracy: 0.9619 - val_loss: 0.0794 - val_accuracy: 0.9778\n",
            "Epoch 171/250\n",
            "11/11 [==============================] - 0s 10ms/step - loss: 0.0600 - accuracy: 0.9810 - val_loss: 0.0602 - val_accuracy: 0.9778\n",
            "Epoch 172/250\n",
            "11/11 [==============================] - 0s 16ms/step - loss: 0.0783 - accuracy: 0.9810 - val_loss: 0.0573 - val_accuracy: 0.9778\n",
            "Epoch 173/250\n",
            "11/11 [==============================] - 0s 14ms/step - loss: 0.1095 - accuracy: 0.9714 - val_loss: 0.0581 - val_accuracy: 0.9556\n",
            "Epoch 174/250\n",
            "11/11 [==============================] - 0s 21ms/step - loss: 0.1221 - accuracy: 0.9619 - val_loss: 0.0653 - val_accuracy: 0.9778\n",
            "Epoch 175/250\n",
            "11/11 [==============================] - 0s 18ms/step - loss: 0.1004 - accuracy: 0.9619 - val_loss: 0.0613 - val_accuracy: 0.9778\n",
            "Epoch 176/250\n",
            "11/11 [==============================] - 0s 13ms/step - loss: 0.1290 - accuracy: 0.9619 - val_loss: 0.0696 - val_accuracy: 0.9778\n",
            "Epoch 177/250\n",
            "11/11 [==============================] - 0s 9ms/step - loss: 0.0915 - accuracy: 0.9619 - val_loss: 0.1137 - val_accuracy: 0.9556\n",
            "Epoch 178/250\n",
            "11/11 [==============================] - 0s 14ms/step - loss: 0.1440 - accuracy: 0.9619 - val_loss: 0.0744 - val_accuracy: 0.9778\n",
            "Epoch 179/250\n",
            "11/11 [==============================] - 0s 14ms/step - loss: 0.0989 - accuracy: 0.9714 - val_loss: 0.1009 - val_accuracy: 0.9778\n",
            "Epoch 180/250\n",
            "11/11 [==============================] - 0s 17ms/step - loss: 0.1026 - accuracy: 0.9524 - val_loss: 0.0810 - val_accuracy: 0.9778\n",
            "Epoch 181/250\n",
            "11/11 [==============================] - 0s 12ms/step - loss: 0.1049 - accuracy: 0.9524 - val_loss: 0.0695 - val_accuracy: 0.9778\n",
            "Epoch 182/250\n",
            "11/11 [==============================] - 0s 22ms/step - loss: 0.1006 - accuracy: 0.9619 - val_loss: 0.0687 - val_accuracy: 0.9778\n",
            "Epoch 183/250\n",
            "11/11 [==============================] - 0s 13ms/step - loss: 0.0953 - accuracy: 0.9524 - val_loss: 0.0674 - val_accuracy: 0.9778\n",
            "Epoch 184/250\n",
            "11/11 [==============================] - 0s 17ms/step - loss: 0.1006 - accuracy: 0.9619 - val_loss: 0.0707 - val_accuracy: 0.9778\n",
            "Epoch 185/250\n",
            "11/11 [==============================] - 0s 21ms/step - loss: 0.0935 - accuracy: 0.9714 - val_loss: 0.1288 - val_accuracy: 0.9333\n",
            "Epoch 186/250\n",
            "11/11 [==============================] - 0s 20ms/step - loss: 0.0781 - accuracy: 0.9714 - val_loss: 0.0844 - val_accuracy: 0.9778\n",
            "Epoch 187/250\n",
            "11/11 [==============================] - 0s 9ms/step - loss: 0.1023 - accuracy: 0.9524 - val_loss: 0.0718 - val_accuracy: 0.9778\n",
            "Epoch 188/250\n",
            "11/11 [==============================] - 0s 10ms/step - loss: 0.0936 - accuracy: 0.9714 - val_loss: 0.0656 - val_accuracy: 0.9778\n",
            "Epoch 189/250\n",
            "11/11 [==============================] - 0s 5ms/step - loss: 0.1029 - accuracy: 0.9619 - val_loss: 0.0781 - val_accuracy: 0.9778\n",
            "Epoch 190/250\n",
            "11/11 [==============================] - 0s 5ms/step - loss: 0.1206 - accuracy: 0.9524 - val_loss: 0.0672 - val_accuracy: 0.9778\n",
            "Epoch 191/250\n",
            "11/11 [==============================] - 0s 6ms/step - loss: 0.1061 - accuracy: 0.9524 - val_loss: 0.0730 - val_accuracy: 0.9778\n",
            "Epoch 192/250\n",
            "11/11 [==============================] - 0s 6ms/step - loss: 0.1182 - accuracy: 0.9524 - val_loss: 0.0969 - val_accuracy: 0.9556\n",
            "Epoch 193/250\n",
            "11/11 [==============================] - 0s 5ms/step - loss: 0.0748 - accuracy: 0.9810 - val_loss: 0.0794 - val_accuracy: 0.9778\n",
            "Epoch 194/250\n",
            "11/11 [==============================] - 0s 7ms/step - loss: 0.0995 - accuracy: 0.9714 - val_loss: 0.0664 - val_accuracy: 0.9556\n",
            "Epoch 195/250\n",
            "11/11 [==============================] - 0s 6ms/step - loss: 0.1046 - accuracy: 0.9714 - val_loss: 0.0630 - val_accuracy: 0.9778\n",
            "Epoch 196/250\n",
            "11/11 [==============================] - 0s 5ms/step - loss: 0.1137 - accuracy: 0.9619 - val_loss: 0.0623 - val_accuracy: 0.9778\n",
            "Epoch 197/250\n",
            "11/11 [==============================] - 0s 5ms/step - loss: 0.0879 - accuracy: 0.9714 - val_loss: 0.0700 - val_accuracy: 0.9778\n",
            "Epoch 198/250\n",
            "11/11 [==============================] - 0s 6ms/step - loss: 0.1010 - accuracy: 0.9714 - val_loss: 0.0607 - val_accuracy: 0.9778\n",
            "Epoch 199/250\n",
            "11/11 [==============================] - 0s 7ms/step - loss: 0.0841 - accuracy: 0.9619 - val_loss: 0.0758 - val_accuracy: 0.9778\n",
            "Epoch 200/250\n",
            "11/11 [==============================] - 0s 8ms/step - loss: 0.0796 - accuracy: 0.9714 - val_loss: 0.0606 - val_accuracy: 0.9778\n",
            "Epoch 201/250\n",
            "11/11 [==============================] - 0s 8ms/step - loss: 0.1039 - accuracy: 0.9619 - val_loss: 0.0591 - val_accuracy: 0.9778\n",
            "Epoch 202/250\n",
            "11/11 [==============================] - 0s 7ms/step - loss: 0.0721 - accuracy: 0.9714 - val_loss: 0.0568 - val_accuracy: 0.9778\n",
            "Epoch 203/250\n",
            "11/11 [==============================] - 0s 7ms/step - loss: 0.1213 - accuracy: 0.9524 - val_loss: 0.0653 - val_accuracy: 0.9778\n",
            "Epoch 204/250\n",
            "11/11 [==============================] - 0s 8ms/step - loss: 0.0909 - accuracy: 0.9619 - val_loss: 0.0598 - val_accuracy: 0.9778\n",
            "Epoch 205/250\n",
            "11/11 [==============================] - 0s 7ms/step - loss: 0.1189 - accuracy: 0.9714 - val_loss: 0.0781 - val_accuracy: 0.9778\n",
            "Epoch 206/250\n",
            "11/11 [==============================] - 0s 7ms/step - loss: 0.1134 - accuracy: 0.9524 - val_loss: 0.0939 - val_accuracy: 0.9778\n",
            "Epoch 207/250\n",
            "11/11 [==============================] - 0s 6ms/step - loss: 0.0996 - accuracy: 0.9619 - val_loss: 0.0861 - val_accuracy: 0.9556\n",
            "Epoch 208/250\n",
            "11/11 [==============================] - 0s 9ms/step - loss: 0.1666 - accuracy: 0.9524 - val_loss: 0.1042 - val_accuracy: 0.9556\n",
            "Epoch 209/250\n",
            "11/11 [==============================] - 0s 6ms/step - loss: 0.1380 - accuracy: 0.9429 - val_loss: 0.0903 - val_accuracy: 0.9778\n",
            "Epoch 210/250\n",
            "11/11 [==============================] - 0s 6ms/step - loss: 0.1067 - accuracy: 0.9810 - val_loss: 0.1754 - val_accuracy: 0.8889\n",
            "Epoch 211/250\n",
            "11/11 [==============================] - 0s 6ms/step - loss: 0.1212 - accuracy: 0.9524 - val_loss: 0.0891 - val_accuracy: 0.9778\n",
            "Epoch 212/250\n",
            "11/11 [==============================] - 0s 6ms/step - loss: 0.1057 - accuracy: 0.9619 - val_loss: 0.0882 - val_accuracy: 0.9778\n",
            "Epoch 213/250\n",
            "11/11 [==============================] - 0s 8ms/step - loss: 0.1000 - accuracy: 0.9714 - val_loss: 0.0996 - val_accuracy: 0.9556\n",
            "Epoch 214/250\n",
            "11/11 [==============================] - 0s 6ms/step - loss: 0.0894 - accuracy: 0.9714 - val_loss: 0.0717 - val_accuracy: 0.9778\n",
            "Epoch 215/250\n",
            "11/11 [==============================] - 0s 5ms/step - loss: 0.1010 - accuracy: 0.9524 - val_loss: 0.0654 - val_accuracy: 0.9778\n",
            "Epoch 216/250\n",
            "11/11 [==============================] - 0s 6ms/step - loss: 0.0963 - accuracy: 0.9714 - val_loss: 0.0769 - val_accuracy: 0.9778\n",
            "Epoch 217/250\n",
            "11/11 [==============================] - 0s 7ms/step - loss: 0.0867 - accuracy: 0.9810 - val_loss: 0.1428 - val_accuracy: 0.9778\n",
            "Epoch 218/250\n",
            "11/11 [==============================] - 0s 8ms/step - loss: 0.0991 - accuracy: 0.9619 - val_loss: 0.1271 - val_accuracy: 0.9111\n",
            "Epoch 219/250\n",
            "11/11 [==============================] - 0s 7ms/step - loss: 0.1184 - accuracy: 0.9619 - val_loss: 0.0839 - val_accuracy: 0.9778\n",
            "Epoch 220/250\n",
            "11/11 [==============================] - 0s 7ms/step - loss: 0.0999 - accuracy: 0.9714 - val_loss: 0.0703 - val_accuracy: 0.9778\n",
            "Epoch 221/250\n",
            "11/11 [==============================] - 0s 6ms/step - loss: 0.0997 - accuracy: 0.9714 - val_loss: 0.0973 - val_accuracy: 0.9778\n",
            "Epoch 222/250\n",
            "11/11 [==============================] - 0s 6ms/step - loss: 0.1015 - accuracy: 0.9619 - val_loss: 0.0709 - val_accuracy: 0.9778\n",
            "Epoch 223/250\n",
            "11/11 [==============================] - 0s 7ms/step - loss: 0.1342 - accuracy: 0.9619 - val_loss: 0.0775 - val_accuracy: 0.9778\n",
            "Epoch 224/250\n",
            "11/11 [==============================] - 0s 7ms/step - loss: 0.0839 - accuracy: 0.9714 - val_loss: 0.0711 - val_accuracy: 0.9778\n",
            "Epoch 225/250\n",
            "11/11 [==============================] - 0s 5ms/step - loss: 0.1107 - accuracy: 0.9619 - val_loss: 0.0726 - val_accuracy: 0.9778\n",
            "Epoch 226/250\n",
            "11/11 [==============================] - 0s 5ms/step - loss: 0.1176 - accuracy: 0.9619 - val_loss: 0.1102 - val_accuracy: 0.9556\n",
            "Epoch 227/250\n",
            "11/11 [==============================] - 0s 6ms/step - loss: 0.1296 - accuracy: 0.9619 - val_loss: 0.1075 - val_accuracy: 0.9778\n",
            "Epoch 228/250\n",
            "11/11 [==============================] - 0s 6ms/step - loss: 0.0858 - accuracy: 0.9714 - val_loss: 0.0884 - val_accuracy: 0.9778\n",
            "Epoch 229/250\n",
            "11/11 [==============================] - 0s 7ms/step - loss: 0.1109 - accuracy: 0.9619 - val_loss: 0.0913 - val_accuracy: 0.9556\n",
            "Epoch 230/250\n",
            "11/11 [==============================] - 0s 7ms/step - loss: 0.0887 - accuracy: 0.9714 - val_loss: 0.0872 - val_accuracy: 0.9778\n",
            "Epoch 231/250\n",
            "11/11 [==============================] - 0s 5ms/step - loss: 0.0957 - accuracy: 0.9714 - val_loss: 0.0811 - val_accuracy: 0.9778\n",
            "Epoch 232/250\n",
            "11/11 [==============================] - 0s 5ms/step - loss: 0.1083 - accuracy: 0.9619 - val_loss: 0.0907 - val_accuracy: 0.9778\n",
            "Epoch 233/250\n",
            "11/11 [==============================] - 0s 6ms/step - loss: 0.0899 - accuracy: 0.9714 - val_loss: 0.0748 - val_accuracy: 0.9778\n",
            "Epoch 234/250\n",
            "11/11 [==============================] - 0s 5ms/step - loss: 0.0762 - accuracy: 0.9714 - val_loss: 0.0912 - val_accuracy: 0.9778\n",
            "Epoch 235/250\n",
            "11/11 [==============================] - 0s 5ms/step - loss: 0.1042 - accuracy: 0.9619 - val_loss: 0.0714 - val_accuracy: 0.9778\n",
            "Epoch 236/250\n",
            "11/11 [==============================] - 0s 7ms/step - loss: 0.1264 - accuracy: 0.9619 - val_loss: 0.0505 - val_accuracy: 1.0000\n",
            "Epoch 237/250\n",
            "11/11 [==============================] - 0s 8ms/step - loss: 0.1404 - accuracy: 0.9524 - val_loss: 0.1253 - val_accuracy: 0.9333\n",
            "Epoch 238/250\n",
            "11/11 [==============================] - 0s 6ms/step - loss: 0.1200 - accuracy: 0.9524 - val_loss: 0.1813 - val_accuracy: 0.9333\n",
            "Epoch 239/250\n",
            "11/11 [==============================] - 0s 6ms/step - loss: 0.1102 - accuracy: 0.9714 - val_loss: 0.0988 - val_accuracy: 0.9556\n",
            "Epoch 240/250\n",
            "11/11 [==============================] - 0s 7ms/step - loss: 0.1090 - accuracy: 0.9619 - val_loss: 0.0838 - val_accuracy: 0.9778\n",
            "Epoch 241/250\n",
            "11/11 [==============================] - 0s 6ms/step - loss: 0.0988 - accuracy: 0.9619 - val_loss: 0.0928 - val_accuracy: 0.9778\n",
            "Epoch 242/250\n",
            "11/11 [==============================] - 0s 6ms/step - loss: 0.1070 - accuracy: 0.9619 - val_loss: 0.0706 - val_accuracy: 0.9778\n",
            "Epoch 243/250\n",
            "11/11 [==============================] - 0s 7ms/step - loss: 0.1040 - accuracy: 0.9524 - val_loss: 0.0648 - val_accuracy: 0.9778\n",
            "Epoch 244/250\n",
            "11/11 [==============================] - 0s 7ms/step - loss: 0.0955 - accuracy: 0.9619 - val_loss: 0.0843 - val_accuracy: 0.9778\n",
            "Epoch 245/250\n",
            "11/11 [==============================] - 0s 7ms/step - loss: 0.0889 - accuracy: 0.9714 - val_loss: 0.0649 - val_accuracy: 0.9778\n",
            "Epoch 246/250\n",
            "11/11 [==============================] - 0s 7ms/step - loss: 0.0862 - accuracy: 0.9619 - val_loss: 0.0768 - val_accuracy: 0.9778\n",
            "Epoch 247/250\n",
            "11/11 [==============================] - 0s 6ms/step - loss: 0.0953 - accuracy: 0.9810 - val_loss: 0.0579 - val_accuracy: 0.9778\n",
            "Epoch 248/250\n",
            "11/11 [==============================] - 0s 5ms/step - loss: 0.1320 - accuracy: 0.9429 - val_loss: 0.0893 - val_accuracy: 0.9778\n",
            "Epoch 249/250\n",
            "11/11 [==============================] - 0s 6ms/step - loss: 0.1059 - accuracy: 0.9714 - val_loss: 0.1028 - val_accuracy: 0.9778\n",
            "Epoch 250/250\n",
            "11/11 [==============================] - 0s 9ms/step - loss: 0.0991 - accuracy: 0.9524 - val_loss: 0.0619 - val_accuracy: 1.0000\n"
          ]
        }
      ]
    },
    {
      "cell_type": "code",
      "source": [
        "scores = model.evaluate(xtest,ytest) #akurasi data testing\n",
        "print(\"\\n%s: %.2f%%\" % (model.metrics_names[1], scores[1]*100))"
      ],
      "metadata": {
        "colab": {
          "base_uri": "https://localhost:8080/"
        },
        "id": "ME7yLIGPOHty",
        "outputId": "9eb2e7f5-2f51-49cc-887c-e8ac7b481e72"
      },
      "execution_count": 26,
      "outputs": [
        {
          "output_type": "stream",
          "name": "stdout",
          "text": [
            "2/2 [==============================] - 0s 7ms/step - loss: 0.0619 - accuracy: 1.0000\n",
            "\n",
            "accuracy: 100.00%\n"
          ]
        }
      ]
    },
    {
      "cell_type": "code",
      "source": [
        "test_pred = model.predict(xtest)"
      ],
      "metadata": {
        "id": "NkMVGz3hOND7"
      },
      "execution_count": 27,
      "outputs": []
    },
    {
      "cell_type": "code",
      "source": [
        "from sklearn.metrics import confusion_matrix #data training\n",
        "cm = confusion_mtx = confusion_matrix(ytest.argmax(axis=1), test_pred.argmax(axis=1))\n",
        "\n",
        "cm"
      ],
      "metadata": {
        "colab": {
          "base_uri": "https://localhost:8080/"
        },
        "id": "g6ABkWbbOPXX",
        "outputId": "069a9d1b-2231-404b-9732-84a4c170b91b"
      },
      "execution_count": 28,
      "outputs": [
        {
          "output_type": "execute_result",
          "data": {
            "text/plain": [
              "array([[14,  0,  0],\n",
              "       [ 0, 18,  0],\n",
              "       [ 0,  0, 13]])"
            ]
          },
          "metadata": {},
          "execution_count": 28
        }
      ]
    },
    {
      "cell_type": "code",
      "source": [
        "cm_df = pd.DataFrame(cm)                      \n",
        "plt.figure(figsize=(10,6)) \n",
        "sns.heatmap(cm_df, annot=True)"
      ],
      "metadata": {
        "colab": {
          "base_uri": "https://localhost:8080/",
          "height": 395
        },
        "id": "mbbGvUfqOUub",
        "outputId": "4a7f6054-9e94-4057-da1f-aca5046b9633"
      },
      "execution_count": 29,
      "outputs": [
        {
          "output_type": "execute_result",
          "data": {
            "text/plain": [
              "<matplotlib.axes._subplots.AxesSubplot at 0x7f5527621e90>"
            ]
          },
          "metadata": {},
          "execution_count": 29
        },
        {
          "output_type": "display_data",
          "data": {
            "text/plain": [
              "<Figure size 720x432 with 2 Axes>"
            ],
            "image/png": "[encoded data removed]"
          },
          "metadata": {
            "needs_background": "light"
          }
        }
      ]
    },
    {
      "cell_type": "code",
      "source": [
        "from sklearn.metrics import classification_report\n",
        "print(classification_report(ytest.argmax(axis=1), test_pred.argmax(axis=1)))"
      ],
      "metadata": {
        "colab": {
          "base_uri": "https://localhost:8080/"
        },
        "id": "M-OW9EZ1OVOU",
        "outputId": "78b109b1-dff7-43c5-e0a7-e9c9a4fc00e6"
      },
      "execution_count": 30,
      "outputs": [
        {
          "output_type": "stream",
          "name": "stdout",
          "text": [
            "              precision    recall  f1-score   support\n",
            "\n",
            "           0       1.00      1.00      1.00        14\n",
            "           1       1.00      1.00      1.00        18\n",
            "           2       1.00      1.00      1.00        13\n",
            "\n",
            "    accuracy                           1.00        45\n",
            "   macro avg       1.00      1.00      1.00        45\n",
            "weighted avg       1.00      1.00      1.00        45\n",
            "\n"
          ]
        }
      ]
    }
  ]
}
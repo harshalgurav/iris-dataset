{
 "cells": [
  {
   "cell_type": "code",
   "execution_count": 1,
   "id": "7165d4e7",
   "metadata": {},
   "outputs": [],
   "source": [
    "#import libraries\n",
    "#numpy library\n",
    "import numpy as np\n",
    "#pandas library\n",
    "import pandas as pd\n",
    "#visulization libraries\n",
    "import matplotlib.pyplot as plt\n",
    "import seaborn as sns\n",
    "#tensor flow library\n",
    "import tensorflow as tf\n",
    "#keras library\n",
    "import keras as kr\n",
    "import warnings\n",
    "warnings.filterwarnings('ignore')"
   ]
  },
  {
   "cell_type": "code",
   "execution_count": 2,
   "id": "49fcdfac",
   "metadata": {},
   "outputs": [],
   "source": [
    "#to load dataset\n",
    "df=pd.read_csv('iris.csv')"
   ]
  },
  {
   "cell_type": "code",
   "execution_count": 3,
   "id": "534e5d3a",
   "metadata": {
    "scrolled": true
   },
   "outputs": [
    {
     "data": {
      "text/html": [
       "<div>\n",
       "<style scoped>\n",
       "    .dataframe tbody tr th:only-of-type {\n",
       "        vertical-align: middle;\n",
       "    }\n",
       "\n",
       "    .dataframe tbody tr th {\n",
       "        vertical-align: top;\n",
       "    }\n",
       "\n",
       "    .dataframe thead th {\n",
       "        text-align: right;\n",
       "    }\n",
       "</style>\n",
       "<table border=\"1\" class=\"dataframe\">\n",
       "  <thead>\n",
       "    <tr style=\"text-align: right;\">\n",
       "      <th></th>\n",
       "      <th>sepal_length</th>\n",
       "      <th>sepal_width</th>\n",
       "      <th>petal_length</th>\n",
       "      <th>petal_width</th>\n",
       "      <th>species</th>\n",
       "    </tr>\n",
       "  </thead>\n",
       "  <tbody>\n",
       "    <tr>\n",
       "      <th>0</th>\n",
       "      <td>5.1</td>\n",
       "      <td>3.5</td>\n",
       "      <td>1.4</td>\n",
       "      <td>0.2</td>\n",
       "      <td>Iris-setosa</td>\n",
       "    </tr>\n",
       "    <tr>\n",
       "      <th>1</th>\n",
       "      <td>4.9</td>\n",
       "      <td>3.0</td>\n",
       "      <td>1.4</td>\n",
       "      <td>0.2</td>\n",
       "      <td>Iris-setosa</td>\n",
       "    </tr>\n",
       "    <tr>\n",
       "      <th>2</th>\n",
       "      <td>4.7</td>\n",
       "      <td>3.2</td>\n",
       "      <td>1.3</td>\n",
       "      <td>0.2</td>\n",
       "      <td>Iris-setosa</td>\n",
       "    </tr>\n",
       "    <tr>\n",
       "      <th>3</th>\n",
       "      <td>4.6</td>\n",
       "      <td>3.1</td>\n",
       "      <td>1.5</td>\n",
       "      <td>0.2</td>\n",
       "      <td>Iris-setosa</td>\n",
       "    </tr>\n",
       "    <tr>\n",
       "      <th>4</th>\n",
       "      <td>5.0</td>\n",
       "      <td>3.6</td>\n",
       "      <td>1.4</td>\n",
       "      <td>0.2</td>\n",
       "      <td>Iris-setosa</td>\n",
       "    </tr>\n",
       "  </tbody>\n",
       "</table>\n",
       "</div>"
      ],
      "text/plain": [
       "   sepal_length  sepal_width  petal_length  petal_width      species\n",
       "0           5.1          3.5           1.4          0.2  Iris-setosa\n",
       "1           4.9          3.0           1.4          0.2  Iris-setosa\n",
       "2           4.7          3.2           1.3          0.2  Iris-setosa\n",
       "3           4.6          3.1           1.5          0.2  Iris-setosa\n",
       "4           5.0          3.6           1.4          0.2  Iris-setosa"
      ]
     },
     "execution_count": 3,
     "metadata": {},
     "output_type": "execute_result"
    }
   ],
   "source": [
    "#to show first 5 record\n",
    "df.head()"
   ]
  },
  {
   "cell_type": "code",
   "execution_count": 4,
   "id": "e4ddb0fa",
   "metadata": {},
   "outputs": [
    {
     "data": {
      "text/plain": [
       "(150, 5)"
      ]
     },
     "execution_count": 4,
     "metadata": {},
     "output_type": "execute_result"
    }
   ],
   "source": [
    "#to show no of rows and columns\n",
    "df.shape"
   ]
  },
  {
   "cell_type": "code",
   "execution_count": 5,
   "id": "8afab4ef",
   "metadata": {},
   "outputs": [
    {
     "data": {
      "text/plain": [
       "Index(['sepal_length', 'sepal_width', 'petal_length', 'petal_width',\n",
       "       'species'],\n",
       "      dtype='object')"
      ]
     },
     "execution_count": 5,
     "metadata": {},
     "output_type": "execute_result"
    }
   ],
   "source": [
    "#check columns names\n",
    "df.columns"
   ]
  },
  {
   "cell_type": "code",
   "execution_count": 6,
   "id": "050ef69d",
   "metadata": {},
   "outputs": [
    {
     "data": {
      "text/plain": [
       "Iris-setosa        50\n",
       "Iris-versicolor    50\n",
       "Iris-virginica     50\n",
       "Name: species, dtype: int64"
      ]
     },
     "execution_count": 6,
     "metadata": {},
     "output_type": "execute_result"
    }
   ],
   "source": [
    "#check dataset balance or not balanved\n",
    "df['species'].value_counts()"
   ]
  },
  {
   "cell_type": "markdown",
   "id": "1c094b73",
   "metadata": {},
   "source": [
    "thus,dataset is balances dataset"
   ]
  },
  {
   "cell_type": "code",
   "execution_count": 7,
   "id": "55947f47",
   "metadata": {},
   "outputs": [
    {
     "data": {
      "text/plain": [
       "sepal_length    0\n",
       "sepal_width     0\n",
       "petal_length    0\n",
       "petal_width     0\n",
       "species         0\n",
       "dtype: int64"
      ]
     },
     "execution_count": 7,
     "metadata": {},
     "output_type": "execute_result"
    }
   ],
   "source": [
    "#to check null values\n",
    "df.isnull().sum()"
   ]
  },
  {
   "cell_type": "code",
   "execution_count": 8,
   "id": "ec402cec",
   "metadata": {},
   "outputs": [
    {
     "data": {
      "text/plain": [
       "sepal_length    float64\n",
       "sepal_width     float64\n",
       "petal_length    float64\n",
       "petal_width     float64\n",
       "species          object\n",
       "dtype: object"
      ]
     },
     "execution_count": 8,
     "metadata": {},
     "output_type": "execute_result"
    }
   ],
   "source": [
    "#check data type of columns\n",
    "df.dtypes"
   ]
  },
  {
   "cell_type": "code",
   "execution_count": 9,
   "id": "8395144e",
   "metadata": {
    "scrolled": false
   },
   "outputs": [
    {
     "data": {
      "image/png": "[encoded data removed]",
      "text/plain": [
       "<Figure size 432x288 with 2 Axes>"
      ]
     },
     "metadata": {
      "needs_background": "light"
     },
     "output_type": "display_data"
    }
   ],
   "source": [
    "#visulization\n",
    "sns.heatmap(df.isnull())\n",
    "plt.show()"
   ]
  },
  {
   "cell_type": "code",
   "execution_count": 10,
   "id": "c8d76c13",
   "metadata": {},
   "outputs": [
    {
     "data": {
      "image/png": "[encoded data removed]",
      "text/plain": [
       "<Figure size 383.875x288 with 1 Axes>"
      ]
     },
     "metadata": {},
     "output_type": "display_data"
    }
   ],
   "source": [
    "#2d scatterplot\n",
    "sns.set_style(\"whitegrid\")\n",
    "sns.FacetGrid(df,hue=\"species\",size=4).map(plt.scatter,\"sepal_length\",\"sepal_width\").add_legend();\n",
    "plt.show()"
   ]
  },
  {
   "cell_type": "markdown",
   "id": "e361d29d",
   "metadata": {},
   "source": [
    "# Data Investigation and Classification\n",
    "Before trying to create a model for our Neural Network we first need to investigate our data and determine what will be the inputs and what will be our outputs. \n",
    "\n",
    "The CSV file provided contains 5 columns with:\n",
    "\n",
    "Sepal Length\n",
    "\n",
    "Sepal Width\n",
    "\n",
    "Petal Length\n",
    "\n",
    "Petal Width\n",
    "\n",
    "Species\n",
    "\n",
    "Judging by the fact that we are trying to make predictions we must split our data set into sets of:\n",
    "\n",
    "Inputs - Numerical data values\n",
    "\n",
    "Outputs - Classification of Iris Flower species\n",
    "\n",
    "Now that we have the data set loaded we can extract the data we need into appropriate data sets in preparation for training and testing our Model."
   ]
  },
  {
   "cell_type": "code",
   "execution_count": 11,
   "id": "e2a05c6f",
   "metadata": {},
   "outputs": [],
   "source": [
    "# The inputs are four floats: sepal length, sepal width, petal length, petal width.\n",
    "inputs  = np.array(df)[:,:4].astype(np.float)\n",
    "\n",
    "# Outputs are initially individual strings: setosa, versicolor or virginica.\n",
    "outputs = np.array(df)[:,4]\n",
    "\n",
    "# Convert the output strings to ints.\n",
    "outputs_vals, outputs_ints = np.unique(outputs, return_inverse=True)"
   ]
  },
  {
   "cell_type": "markdown",
   "id": "9c96bd28",
   "metadata": {},
   "source": [
    "# Categorical Classification\n",
    "\n",
    "Here we are using the Keras utility to_categorical() to allow us to turn our output categories into binary class matrices. \n",
    "\n",
    "This is often refered to as \"One-Hot\" encoding. \n",
    "\n",
    "This is for use with categorical_crossentropy and classification of our species (setosa, versicolor and virginica).\n",
    "\n",
    "Each Species will be represented as a binary class matrix.\n",
    "\n",
    "Setosa [1 0 0]\n",
    "\n",
    "Versicolor [0 1 0]\n",
    "\n",
    "Virginica [0 0 1]"
   ]
  },
  {
   "cell_type": "code",
   "execution_count": 12,
   "id": "e7ed0088",
   "metadata": {},
   "outputs": [],
   "source": [
    "# Encode the category integers as binary categorical vairables.\n",
    "outputs_cats = kr.utils.to_categorical(outputs_ints)"
   ]
  },
  {
   "cell_type": "markdown",
   "id": "54c10a2b",
   "metadata": {},
   "source": [
    "# Splitting the data\n",
    "\n",
    "We can now randomly split the data into two sets for:\n",
    "\n",
    "    Training\n",
    "\n",
    "    Testing"
   ]
  },
  {
   "cell_type": "code",
   "execution_count": 13,
   "id": "7e7d1d9e",
   "metadata": {},
   "outputs": [],
   "source": [
    "# Split the input and output data sets into training and test subsets.\n",
    "inds = np.random.permutation(len(inputs))\n",
    "train_inds, test_inds = np.array_split(inds, 2)\n",
    "inputs_train, outputs_train = inputs[train_inds], outputs_cats[train_inds]\n",
    "inputs_test,  outputs_test  = inputs[test_inds],  outputs_cats[test_inds]"
   ]
  },
  {
   "cell_type": "markdown",
   "id": "2384a4ef",
   "metadata": {},
   "source": [
    "# Creating a Model"
   ]
  },
  {
   "cell_type": "code",
   "execution_count": 14,
   "id": "d66bb9ee",
   "metadata": {},
   "outputs": [],
   "source": [
    "# Create a neural network.\n",
    "model = kr.models.Sequential()\n",
    "\n",
    "# Add an initial layer with 4 input nodes, and a hidden layer with 16 nodes.\n",
    "model.add(kr.layers.Dense(16, input_shape=(4,)))\n",
    "# Apply the sigmoid activation function to that layer.\n",
    "model.add(kr.layers.Activation(\"sigmoid\"))\n",
    "# Add another layer, connected to the layer with 16 nodes, containing three output nodes.\n",
    "model.add(kr.layers.Dense(3))\n",
    "# Use the softmax activation function there.\n",
    "model.add(kr.layers.Activation(\"softmax\"))"
   ]
  },
  {
   "cell_type": "markdown",
   "id": "e560c4c2",
   "metadata": {},
   "source": [
    "# Activation Functions"
   ]
  },
  {
   "cell_type": "code",
   "execution_count": 15,
   "id": "8986ce95",
   "metadata": {},
   "outputs": [
    {
     "name": "stdout",
     "output_type": "stream",
     "text": [
      "Model: \"sequential\"\n",
      "_________________________________________________________________\n",
      " Layer (type)                Output Shape              Param #   \n",
      "=================================================================\n",
      " dense (Dense)               (None, 16)                80        \n",
      "                                                                 \n",
      " activation (Activation)     (None, 16)                0         \n",
      "                                                                 \n",
      " dense_1 (Dense)             (None, 3)                 51        \n",
      "                                                                 \n",
      " activation_1 (Activation)   (None, 3)                 0         \n",
      "                                                                 \n",
      "=================================================================\n",
      "Total params: 131\n",
      "Trainable params: 131\n",
      "Non-trainable params: 0\n",
      "_________________________________________________________________\n"
     ]
    }
   ],
   "source": [
    "# Display our Model using the summary function\n",
    "model.summary()"
   ]
  },
  {
   "cell_type": "markdown",
   "id": "f0f01468",
   "metadata": {},
   "source": [
    "# Configure the Model for training and fit the training data"
   ]
  },
  {
   "cell_type": "code",
   "execution_count": 16,
   "id": "0690dcb4",
   "metadata": {},
   "outputs": [
    {
     "name": "stdout",
     "output_type": "stream",
     "text": [
      "Epoch 1/100\n",
      "75/75 [==============================] - 1s 1ms/step - loss: 1.3488 - accuracy: 0.3200\n",
      "Epoch 2/100\n",
      "75/75 [==============================] - 0s 1ms/step - loss: 1.1054 - accuracy: 0.3200\n",
      "Epoch 3/100\n",
      "75/75 [==============================] - 0s 1ms/step - loss: 1.0304 - accuracy: 0.5333\n",
      "Epoch 4/100\n",
      "75/75 [==============================] - 0s 1ms/step - loss: 0.9943 - accuracy: 0.6667\n",
      "Epoch 5/100\n",
      "75/75 [==============================] - 0s 1ms/step - loss: 0.9609 - accuracy: 0.6667\n",
      "Epoch 6/100\n",
      "75/75 [==============================] - 0s 2ms/step - loss: 0.9336 - accuracy: 0.6667\n",
      "Epoch 7/100\n",
      "75/75 [==============================] - 0s 1ms/step - loss: 0.9034 - accuracy: 0.6667\n",
      "Epoch 8/100\n",
      "75/75 [==============================] - 0s 1ms/step - loss: 0.8693 - accuracy: 0.8000\n",
      "Epoch 9/100\n",
      "75/75 [==============================] - 0s 3ms/step - loss: 0.8345 - accuracy: 0.6933\n",
      "Epoch 10/100\n",
      "75/75 [==============================] - 0s 3ms/step - loss: 0.8022 - accuracy: 0.6800\n",
      "Epoch 11/100\n",
      "75/75 [==============================] - 0s 2ms/step - loss: 0.7666 - accuracy: 0.7600\n",
      "Epoch 12/100\n",
      "75/75 [==============================] - 0s 2ms/step - loss: 0.7391 - accuracy: 0.8533\n",
      "Epoch 13/100\n",
      "75/75 [==============================] - 0s 2ms/step - loss: 0.7052 - accuracy: 0.8533\n",
      "Epoch 14/100\n",
      "75/75 [==============================] - 0s 1ms/step - loss: 0.6736 - accuracy: 0.7200\n",
      "Epoch 15/100\n",
      "75/75 [==============================] - 0s 1ms/step - loss: 0.6500 - accuracy: 0.7867\n",
      "Epoch 16/100\n",
      "75/75 [==============================] - 0s 1ms/step - loss: 0.6235 - accuracy: 0.8667\n",
      "Epoch 17/100\n",
      "75/75 [==============================] - 0s 2ms/step - loss: 0.6012 - accuracy: 0.8133\n",
      "Epoch 18/100\n",
      "75/75 [==============================] - 0s 3ms/step - loss: 0.5831 - accuracy: 0.8267\n",
      "Epoch 19/100\n",
      "75/75 [==============================] - 0s 4ms/step - loss: 0.5690 - accuracy: 0.9467\n",
      "Epoch 20/100\n",
      "75/75 [==============================] - 0s 2ms/step - loss: 0.5508 - accuracy: 0.8933\n",
      "Epoch 21/100\n",
      "75/75 [==============================] - 0s 1ms/step - loss: 0.5376 - accuracy: 0.8800\n",
      "Epoch 22/100\n",
      "75/75 [==============================] - 0s 2ms/step - loss: 0.5250 - accuracy: 0.9200\n",
      "Epoch 23/100\n",
      "75/75 [==============================] - 0s 2ms/step - loss: 0.5106 - accuracy: 0.8533\n",
      "Epoch 24/100\n",
      "75/75 [==============================] - 0s 2ms/step - loss: 0.4986 - accuracy: 0.9200\n",
      "Epoch 25/100\n",
      "75/75 [==============================] - 0s 2ms/step - loss: 0.4902 - accuracy: 0.9200\n",
      "Epoch 26/100\n",
      "75/75 [==============================] - 0s 3ms/step - loss: 0.4785 - accuracy: 0.9333\n",
      "Epoch 27/100\n",
      "75/75 [==============================] - 0s 3ms/step - loss: 0.4681 - accuracy: 0.9467\n",
      "Epoch 28/100\n",
      "75/75 [==============================] - 0s 2ms/step - loss: 0.4609 - accuracy: 0.9200\n",
      "Epoch 29/100\n",
      "75/75 [==============================] - 0s 1ms/step - loss: 0.4527 - accuracy: 0.9467\n",
      "Epoch 30/100\n",
      "75/75 [==============================] - 0s 1ms/step - loss: 0.4448 - accuracy: 0.9333\n",
      "Epoch 31/100\n",
      "75/75 [==============================] - 0s 1ms/step - loss: 0.4360 - accuracy: 0.9200\n",
      "Epoch 32/100\n",
      "75/75 [==============================] - 0s 1ms/step - loss: 0.4253 - accuracy: 0.9600\n",
      "Epoch 33/100\n",
      "75/75 [==============================] - 0s 1ms/step - loss: 0.4198 - accuracy: 0.9600\n",
      "Epoch 34/100\n",
      "75/75 [==============================] - 0s 2ms/step - loss: 0.4085 - accuracy: 0.9467\n",
      "Epoch 35/100\n",
      "75/75 [==============================] - 0s 1ms/step - loss: 0.4040 - accuracy: 0.9333\n",
      "Epoch 36/100\n",
      "75/75 [==============================] - 0s 1ms/step - loss: 0.3942 - accuracy: 0.9467\n",
      "Epoch 37/100\n",
      "75/75 [==============================] - 0s 1ms/step - loss: 0.3862 - accuracy: 0.9600\n",
      "Epoch 38/100\n",
      "75/75 [==============================] - 0s 1ms/step - loss: 0.3795 - accuracy: 0.9467\n",
      "Epoch 39/100\n",
      "75/75 [==============================] - 0s 1ms/step - loss: 0.3740 - accuracy: 0.9467\n",
      "Epoch 40/100\n",
      "75/75 [==============================] - 0s 1ms/step - loss: 0.3649 - accuracy: 0.9467\n",
      "Epoch 41/100\n",
      "75/75 [==============================] - 0s 1ms/step - loss: 0.3609 - accuracy: 0.9467\n",
      "Epoch 42/100\n",
      "75/75 [==============================] - 0s 1ms/step - loss: 0.3523 - accuracy: 0.9467\n",
      "Epoch 43/100\n",
      "75/75 [==============================] - 0s 1ms/step - loss: 0.3424 - accuracy: 0.9467\n",
      "Epoch 44/100\n",
      "75/75 [==============================] - 0s 1ms/step - loss: 0.3365 - accuracy: 0.9467\n",
      "Epoch 45/100\n",
      "75/75 [==============================] - 0s 3ms/step - loss: 0.3309 - accuracy: 0.9867\n",
      "Epoch 46/100\n",
      "75/75 [==============================] - 0s 2ms/step - loss: 0.3236 - accuracy: 0.9467\n",
      "Epoch 47/100\n",
      "75/75 [==============================] - 0s 1ms/step - loss: 0.3192 - accuracy: 0.9600\n",
      "Epoch 48/100\n",
      "75/75 [==============================] - 0s 1ms/step - loss: 0.3125 - accuracy: 0.9600\n",
      "Epoch 49/100\n",
      "75/75 [==============================] - 0s 1ms/step - loss: 0.3057 - accuracy: 0.9467\n",
      "Epoch 50/100\n",
      "75/75 [==============================] - 0s 989us/step - loss: 0.2983 - accuracy: 0.9867\n",
      "Epoch 51/100\n",
      "75/75 [==============================] - 0s 2ms/step - loss: 0.2945 - accuracy: 0.9467\n",
      "Epoch 52/100\n",
      "75/75 [==============================] - 0s 3ms/step - loss: 0.2881 - accuracy: 0.9467\n",
      "Epoch 53/100\n",
      "75/75 [==============================] - 0s 2ms/step - loss: 0.2858 - accuracy: 0.9467\n",
      "Epoch 54/100\n",
      "75/75 [==============================] - 0s 972us/step - loss: 0.2786 - accuracy: 0.9600\n",
      "Epoch 55/100\n",
      "75/75 [==============================] - 0s 1ms/step - loss: 0.2742 - accuracy: 0.9467\n",
      "Epoch 56/100\n",
      "75/75 [==============================] - 0s 1ms/step - loss: 0.2690 - accuracy: 0.9867\n",
      "Epoch 57/100\n",
      "75/75 [==============================] - 0s 1ms/step - loss: 0.2639 - accuracy: 0.9600\n",
      "Epoch 58/100\n",
      "75/75 [==============================] - 0s 972us/step - loss: 0.2625 - accuracy: 0.9467\n",
      "Epoch 59/100\n",
      "75/75 [==============================] - 0s 2ms/step - loss: 0.2558 - accuracy: 0.9600\n",
      "Epoch 60/100\n",
      "75/75 [==============================] - 0s 3ms/step - loss: 0.2537 - accuracy: 0.9467\n",
      "Epoch 61/100\n",
      "75/75 [==============================] - 0s 3ms/step - loss: 0.2476 - accuracy: 0.9467\n",
      "Epoch 62/100\n",
      "75/75 [==============================] - 0s 1ms/step - loss: 0.2427 - accuracy: 0.9867\n",
      "Epoch 63/100\n",
      "75/75 [==============================] - 0s 1ms/step - loss: 0.2437 - accuracy: 0.9467\n",
      "Epoch 64/100\n",
      "75/75 [==============================] - 0s 973us/step - loss: 0.2332 - accuracy: 0.9733\n",
      "Epoch 65/100\n",
      "75/75 [==============================] - 0s 2ms/step - loss: 0.2363 - accuracy: 0.9467\n",
      "Epoch 66/100\n",
      "75/75 [==============================] - 0s 3ms/step - loss: 0.2301 - accuracy: 0.9867\n",
      "Epoch 67/100\n",
      "75/75 [==============================] - 0s 3ms/step - loss: 0.2251 - accuracy: 0.9600\n",
      "Epoch 68/100\n",
      "75/75 [==============================] - 0s 3ms/step - loss: 0.2226 - accuracy: 0.9600\n",
      "Epoch 69/100\n",
      "75/75 [==============================] - 0s 1ms/step - loss: 0.2168 - accuracy: 0.9600\n",
      "Epoch 70/100\n",
      "75/75 [==============================] - 0s 1ms/step - loss: 0.2156 - accuracy: 0.9733\n",
      "Epoch 71/100\n",
      "75/75 [==============================] - 0s 1ms/step - loss: 0.2144 - accuracy: 0.9467\n",
      "Epoch 72/100\n",
      "75/75 [==============================] - 0s 1ms/step - loss: 0.2080 - accuracy: 0.9733\n",
      "Epoch 73/100\n",
      "75/75 [==============================] - 0s 2ms/step - loss: 0.2070 - accuracy: 0.9467\n",
      "Epoch 74/100\n",
      "75/75 [==============================] - 0s 3ms/step - loss: 0.2034 - accuracy: 0.9467\n",
      "Epoch 75/100\n",
      "75/75 [==============================] - 0s 3ms/step - loss: 0.2011 - accuracy: 0.9733\n",
      "Epoch 76/100\n",
      "75/75 [==============================] - 0s 2ms/step - loss: 0.1976 - accuracy: 0.9600\n",
      "Epoch 77/100\n",
      "75/75 [==============================] - 0s 1ms/step - loss: 0.1950 - accuracy: 0.9600\n",
      "Epoch 78/100\n",
      "75/75 [==============================] - 0s 972us/step - loss: 0.1902 - accuracy: 0.9733\n",
      "Epoch 79/100\n",
      "75/75 [==============================] - 0s 1ms/step - loss: 0.1886 - accuracy: 0.9600\n",
      "Epoch 80/100\n",
      "75/75 [==============================] - 0s 1ms/step - loss: 0.1861 - accuracy: 0.9733\n",
      "Epoch 81/100\n",
      "75/75 [==============================] - 0s 1ms/step - loss: 0.1819 - accuracy: 0.9733\n",
      "Epoch 82/100\n"
     ]
    },
    {
     "name": "stdout",
     "output_type": "stream",
     "text": [
      "75/75 [==============================] - 0s 1ms/step - loss: 0.1835 - accuracy: 0.9600\n",
      "Epoch 83/100\n",
      "75/75 [==============================] - 0s 1ms/step - loss: 0.1797 - accuracy: 0.9467\n",
      "Epoch 84/100\n",
      "75/75 [==============================] - 0s 2ms/step - loss: 0.1785 - accuracy: 0.9600\n",
      "Epoch 85/100\n",
      "75/75 [==============================] - 0s 3ms/step - loss: 0.1774 - accuracy: 0.9467\n",
      "Epoch 86/100\n",
      "75/75 [==============================] - 0s 1ms/step - loss: 0.1786 - accuracy: 0.9467\n",
      "Epoch 87/100\n",
      "75/75 [==============================] - 0s 1ms/step - loss: 0.1696 - accuracy: 0.9733\n",
      "Epoch 88/100\n",
      "75/75 [==============================] - 0s 972us/step - loss: 0.1680 - accuracy: 0.9600\n",
      "Epoch 89/100\n",
      "75/75 [==============================] - 0s 973us/step - loss: 0.1651 - accuracy: 0.9600\n",
      "Epoch 90/100\n",
      "75/75 [==============================] - 0s 972us/step - loss: 0.1648 - accuracy: 0.9733\n",
      "Epoch 91/100\n",
      "75/75 [==============================] - 0s 988us/step - loss: 0.1632 - accuracy: 0.9600\n",
      "Epoch 92/100\n",
      "75/75 [==============================] - 0s 973us/step - loss: 0.1631 - accuracy: 0.9600\n",
      "Epoch 93/100\n",
      "75/75 [==============================] - 0s 972us/step - loss: 0.1599 - accuracy: 0.9733\n",
      "Epoch 94/100\n",
      "75/75 [==============================] - 0s 973us/step - loss: 0.1596 - accuracy: 0.9733\n",
      "Epoch 95/100\n",
      "75/75 [==============================] - 0s 972us/step - loss: 0.1543 - accuracy: 0.9733\n",
      "Epoch 96/100\n",
      "75/75 [==============================] - 0s 973us/step - loss: 0.1560 - accuracy: 0.9467\n",
      "Epoch 97/100\n",
      "75/75 [==============================] - 0s 972us/step - loss: 0.1565 - accuracy: 0.9600\n",
      "Epoch 98/100\n",
      "75/75 [==============================] - 0s 972us/step - loss: 0.1568 - accuracy: 0.9467\n",
      "Epoch 99/100\n",
      "75/75 [==============================] - 0s 972us/step - loss: 0.1564 - accuracy: 0.9600\n",
      "Epoch 100/100\n",
      "75/75 [==============================] - 0s 972us/step - loss: 0.1513 - accuracy: 0.9600\n"
     ]
    },
    {
     "data": {
      "text/plain": [
       "<keras.callbacks.History at 0x1703ec363d0>"
      ]
     },
     "execution_count": 16,
     "metadata": {},
     "output_type": "execute_result"
    }
   ],
   "source": [
    "# Configure the model for training.\n",
    "# Uses the adam optimizer and categorical cross entropy as the loss function.\n",
    "# Add in some extra metrics - accuracy being the only one.\n",
    "model.compile(optimizer=\"adam\", loss=\"categorical_crossentropy\", metrics=[\"accuracy\"])\n",
    "\n",
    "# Fit the model using our training data.\n",
    "model.fit(inputs_train, outputs_train, epochs=100, batch_size=1, verbose=1)"
   ]
  },
  {
   "cell_type": "markdown",
   "id": "47c0ad9f",
   "metadata": {},
   "source": [
    "# Evaluate the Loss and Accuracy of the Model"
   ]
  },
  {
   "cell_type": "code",
   "execution_count": 17,
   "id": "9e78eb6a",
   "metadata": {},
   "outputs": [
    {
     "name": "stdout",
     "output_type": "stream",
     "text": [
      "3/3 [==============================] - 0s 0s/step - loss: 0.1463 - accuracy: 0.9733\n",
      "\n",
      "\n",
      "Loss: 0.1463\tAccuracy: 0.9733\n"
     ]
    }
   ],
   "source": [
    "# Evaluate the model using the test data set.\n",
    "loss, accuracy = model.evaluate(inputs_test, outputs_test, verbose=1)\n",
    "\n",
    "# Output the accuracy of the model.\n",
    "print(\"\\n\\nLoss: %6.4f\\tAccuracy: %6.4f\" % (loss, accuracy))"
   ]
  },
  {
   "cell_type": "markdown",
   "id": "7f9857ef",
   "metadata": {},
   "source": [
    "# Making predictions using the Model"
   ]
  },
  {
   "cell_type": "code",
   "execution_count": 18,
   "id": "eec62391",
   "metadata": {},
   "outputs": [
    {
     "name": "stdout",
     "output_type": "stream",
     "text": [
      "1/1 [==============================] - 0s 64ms/step\n",
      "Actual: [0 0 1]\tEstimated: [0 0 1]\n",
      "That means it's a Iris-virginica\n"
     ]
    }
   ],
   "source": [
    "# Predict the class of a single flower.\n",
    "prediction = np.around(model.predict(np.expand_dims(inputs_test[0], axis=0))).astype(np.int)[0]\n",
    "\n",
    "print(\"Actual: %s\\tEstimated: %s\" % (outputs_test[0].astype(np.int), prediction))\n",
    "print(\"That means it's a %s\" % outputs_vals[prediction.astype(np.bool)][0])"
   ]
  }
 ],
 "metadata": {
  "kernelspec": {
   "display_name": "Python 3 (ipykernel)",
   "language": "python",
   "name": "python3"
  },
  "language_info": {
   "codemirror_mode": {
    "name": "ipython",
    "version": 3
   },
   "file_extension": ".py",
   "mimetype": "text/x-python",
   "name": "python",
   "nbconvert_exporter": "python",
   "pygments_lexer": "ipython3",
   "version": "3.9.7"
  }
 },
 "nbformat": 4,
 "nbformat_minor": 5
}
